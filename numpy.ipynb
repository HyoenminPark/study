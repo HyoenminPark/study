{
  "nbformat": 4,
  "nbformat_minor": 0,
  "metadata": {
    "kernelspec": {
      "display_name": "Python 3",
      "language": "python",
      "name": "python3"
    },
    "language_info": {
      "codemirror_mode": {
        "name": "ipython",
        "version": 3
      },
      "file_extension": ".py",
      "mimetype": "text/x-python",
      "name": "python",
      "nbconvert_exporter": "python",
      "pygments_lexer": "ipython3",
      "version": "3.7.1"
    },
    "colab": {
      "name": "numpy.ipynb",
      "provenance": [],
      "include_colab_link": true
    }
  },
  "cells": [
    {
      "cell_type": "markdown",
      "metadata": {
        "id": "view-in-github",
        "colab_type": "text"
      },
      "source": [
        "<a href=\"https://colab.research.google.com/github/HyoenminPark/study/blob/main/numpy.ipynb\" target=\"_parent\"><img src=\"https://colab.research.google.com/assets/colab-badge.svg\" alt=\"Open In Colab\"/></a>"
      ]
    },
    {
      "cell_type": "markdown",
      "metadata": {
        "id": "e-2S1OhwShA_"
      },
      "source": [
        "# NumPy basics"
      ]
    },
    {
      "cell_type": "markdown",
      "metadata": {
        "id": "TBza2cg22osT"
      },
      "source": [
        "대표적인 package 중 하나가 numpy\n",
        "import numpy (memory 상으로 쓸 수 있게 불러진 것)\n",
        "np.sin(파이)"
      ]
    },
    {
      "cell_type": "markdown",
      "metadata": {
        "id": "-YlALfWL3LI_"
      },
      "source": [
        "numpy가 길기때문에 np 로 부르려면\n",
        "import numpy as np\n",
        "as np가 없으면 밑에는 다 numpy라 적어줘야 함\n",
        "\n",
        "\n",
        "numpy 안에 empty라는 함수가 있음\n",
        "empty 2by3라는 행렬을 만들어라\n",
        "행렬-직사각형의 숫자 배열(가로가 행, 세로가 열) -> 숫자 표현, 연산에 있어 매우 편리 - 2차원\n",
        "dtype='int' - 데이터 타입을 int로! - random하게\n",
        "\n",
        "\n"
      ]
    },
    {
      "cell_type": "markdown",
      "metadata": {
        "id": "japnNanbShBA"
      },
      "source": [
        "## 1. Creation"
      ]
    },
    {
      "cell_type": "code",
      "metadata": {
        "id": "5ap7xyofShBB"
      },
      "source": [
        "import numpy as np\n",
        "import matplotlib.pyplot as plt"
      ],
      "execution_count": 3,
      "outputs": []
    },
    {
      "cell_type": "code",
      "metadata": {
        "id": "xJS2wUSzShBB",
        "colab": {
          "base_uri": "https://localhost:8080/"
        },
        "outputId": "35ba0fca-8ed5-4a31-bae0-3d6caf6bb53f"
      },
      "source": [
        "np.empty([2,3], dtype='int')"
      ],
      "execution_count": null,
      "outputs": [
        {
          "output_type": "execute_result",
          "data": {
            "text/plain": [
              "array([[94246324045408,              0,              0],\n",
              "       [             0,              0,              0]])"
            ]
          },
          "metadata": {
            "tags": []
          },
          "execution_count": 7
        }
      ]
    },
    {
      "cell_type": "code",
      "metadata": {
        "id": "XKkV6Am7ShBB",
        "outputId": "baf7822e-0260-4902-a16b-3d38e36f8e26"
      },
      "source": [
        "np.zeros([2,3]) #2by3의 0로 가득찬 행렬을 만들어라 지금 아마 고정값으로 float이 되어있을 것."
      ],
      "execution_count": null,
      "outputs": [
        {
          "output_type": "execute_result",
          "data": {
            "text/plain": [
              "array([[0., 0., 0.],\n",
              "       [0., 0., 0.]])"
            ]
          },
          "metadata": {
            "tags": []
          },
          "execution_count": 4
        }
      ]
    },
    {
      "cell_type": "code",
      "metadata": {
        "colab": {
          "base_uri": "https://localhost:8080/"
        },
        "id": "NIMfmJii57UU",
        "outputId": "1a5b0c79-e2dd-48a9-e1e6-a568e4b53367"
      },
      "source": [
        "np.zeros([2,3], dtype='int')"
      ],
      "execution_count": null,
      "outputs": [
        {
          "output_type": "execute_result",
          "data": {
            "text/plain": [
              "array([[0, 0, 0],\n",
              "       [0, 0, 0]])"
            ]
          },
          "metadata": {
            "tags": []
          },
          "execution_count": 18
        }
      ]
    },
    {
      "cell_type": "code",
      "metadata": {
        "id": "EjC88C75ShBC",
        "colab": {
          "base_uri": "https://localhost:8080/"
        },
        "outputId": "7d2327b4-21b7-4855-a908-b5f428e82ac3"
      },
      "source": [
        "np.arange(0,10,2, dtype='float64')"
      ],
      "execution_count": 4,
      "outputs": [
        {
          "output_type": "execute_result",
          "data": {
            "text/plain": [
              "array([0., 2., 4., 6., 8.])"
            ]
          },
          "metadata": {
            "tags": []
          },
          "execution_count": 4
        }
      ]
    },
    {
      "cell_type": "markdown",
      "metadata": {
        "id": "7iEM5dcO5OWy"
      },
      "source": [
        "arange라는 함수가 np 안에 있음\n",
        "0,10,2 - 0부터 10직전까지 2만큼의 increasement 를 가지고 수 배열을 만들어라\n",
        "\n",
        "dtype-소수 (float, float 64)"
      ]
    },
    {
      "cell_type": "code",
      "metadata": {
        "id": "-MwkCEjTShBC",
        "colab": {
          "base_uri": "https://localhost:8080/"
        },
        "outputId": "6255208d-03ee-46ff-c808-bf2f81e6773b"
      },
      "source": [
        "np.linspace(0,10,4, dtype=float) #linear space하게 0부터 10까지 등간격으로 총 6개를 만들어라 "
      ],
      "execution_count": null,
      "outputs": [
        {
          "output_type": "execute_result",
          "data": {
            "text/plain": [
              "array([ 0.        ,  3.33333333,  6.66666667, 10.        ])"
            ]
          },
          "metadata": {
            "tags": []
          },
          "execution_count": 6
        }
      ]
    },
    {
      "cell_type": "markdown",
      "metadata": {
        "id": "wA2YUyLu66ME"
      },
      "source": [
        "이러한 숫자열들 - vector\n",
        "행렬 어떻게 쓰는지 외워둘 것.\n",
        "2by3같은 행렬 - vector \n",
        "vector는 행렬임 (숫자열)"
      ]
    },
    {
      "cell_type": "code",
      "metadata": {
        "id": "2rqpSPZCShBC",
        "colab": {
          "base_uri": "https://localhost:8080/"
        },
        "outputId": "d1ced1d5-6be7-4df5-ba0f-3c48741fa5c4"
      },
      "source": [
        "X = np.array([[1,2,3],[4,5,6]]) #2by3 행렬 2-[   .   ] 3- [[ㅇ,ㅇ,ㅇ], [ㅇ,ㅇ,ㅇ]]\n",
        "print(X)\n",
        "print(type(X))"
      ],
      "execution_count": null,
      "outputs": [
        {
          "output_type": "stream",
          "text": [
            "[[1 2 3]\n",
            " [4 5 6]]\n",
            "<class 'numpy.ndarray'>\n"
          ],
          "name": "stdout"
        }
      ]
    },
    {
      "cell_type": "markdown",
      "metadata": {
        "id": "kMky8abn7Sxj"
      },
      "source": [
        "진짜 행렬을 만들어보고 싶을 때 - array\n",
        "\n",
        "\n",
        "결국 list \n",
        "\n",
        "X는 class"
      ]
    },
    {
      "cell_type": "code",
      "metadata": {
        "id": "2IZcYVgpShBD",
        "colab": {
          "base_uri": "https://localhost:8080/"
        },
        "outputId": "37d817dd-4bc2-410c-b940-6b3d59367568"
      },
      "source": [
        "X.astype(np.int)"
      ],
      "execution_count": null,
      "outputs": [
        {
          "output_type": "execute_result",
          "data": {
            "text/plain": [
              "array([[1, 2, 3],\n",
              "       [4, 5, 6]])"
            ]
          },
          "metadata": {
            "tags": []
          },
          "execution_count": 8
        }
      ]
    },
    {
      "cell_type": "code",
      "metadata": {
        "id": "Xm5y2XPRShBD",
        "outputId": "bd479cad-6e00-4f8a-dabc-13303451fe8a"
      },
      "source": [
        "np.zeros_like(X)"
      ],
      "execution_count": null,
      "outputs": [
        {
          "output_type": "execute_result",
          "data": {
            "text/plain": [
              "array([[0, 0, 0],\n",
              "       [0, 0, 0]])"
            ]
          },
          "metadata": {
            "tags": []
          },
          "execution_count": 9
        }
      ]
    },
    {
      "cell_type": "code",
      "metadata": {
        "id": "z1oOAB6dShBD",
        "colab": {
          "base_uri": "https://localhost:8080/",
          "height": 571
        },
        "outputId": "a2feb91c-113a-48dc-82f9-1bca295445de"
      },
      "source": [
        "data = np.random.normal(0,2, 100) #0의 위치에서 1의 standard diviation을 가지고 100개 숫자를 만들어라\n",
        "print(data)\n",
        "plt.hist(data, bins=10) \n",
        "plt.show()"
      ],
      "execution_count": null,
      "outputs": [
        {
          "output_type": "stream",
          "text": [
            "[ 0.17235197  0.18227767 -0.50088879  3.21293411  2.50453138 -0.70947486\n",
            " -0.05656241  0.82915549 -1.13552437  2.07042112  1.54555809 -1.98354882\n",
            " -2.66785604 -0.93494854 -2.9064344   1.56191504  2.51407554 -3.102438\n",
            " -0.73483088  1.86944927  1.29203558  0.13930987  1.19454927  2.66923729\n",
            " -0.4360198  -1.08300689 -0.87236557  0.58354993 -1.09739426  0.06938705\n",
            " -2.71092083 -2.24850094  1.19649409 -2.03782947  1.86657972  0.11108836\n",
            "  1.78372087 -1.68629557 -4.69380131 -0.09872487 -0.10939655  1.27093886\n",
            " -3.12492378 -1.57960191 -0.45793583 -2.6476344   0.64359761  0.48789546\n",
            " -2.04725288  0.82825729  3.46126321  1.65003037 -2.1392395  -1.54275174\n",
            " -0.92340157 -3.06714292 -0.99500831 -0.25518509  2.65930045  2.61622545\n",
            "  0.28937543  0.99615163 -1.41615314  0.9111678  -3.3299276   2.76099927\n",
            " -1.27721501 -1.62936421 -0.55400741  0.04202021 -0.43814389 -0.1285754\n",
            "  1.62544956 -2.54069513  0.50941698 -2.38570698  0.55168631  0.46988259\n",
            "  0.07829716  0.4516199  -1.4532288   0.7601418  -0.90611146 -3.00220277\n",
            " -1.78702022  0.90172814  0.411836   -1.20118815  0.65362363 -3.01622627\n",
            " -1.25813212  0.06751485 -0.47674806  2.14707488 -1.92232318  1.64223015\n",
            "  2.52012974  0.08681819 -0.54771524 -2.10389813]\n"
          ],
          "name": "stdout"
        },
        {
          "output_type": "display_data",
          "data": {
            "image/png": "[encoded data removed]",
            "text/plain": [
              "<Figure size 432x288 with 1 Axes>"
            ]
          },
          "metadata": {
            "tags": [],
            "needs_background": "light"
          }
        }
      ]
    },
    {
      "cell_type": "code",
      "metadata": {
        "colab": {
          "base_uri": "https://localhost:8080/",
          "height": 301
        },
        "id": "XikpUr1A-ujE",
        "outputId": "b28f6c87-bcc6-4082-d0ec-3825d0f8835b"
      },
      "source": [
        "data = np.random.normal(1,100, 10000000) \n",
        "print(data)\n",
        "plt.hist(data, bins=1000) \n",
        "plt.show()"
      ],
      "execution_count": null,
      "outputs": [
        {
          "output_type": "stream",
          "text": [
            "[-23.55637305 -18.68788757 109.84418166 ... -65.54324869  41.07189843\n",
            " -65.64027299]\n"
          ],
          "name": "stdout"
        },
        {
          "output_type": "display_data",
          "data": {
            "image/png": "[encoded data removed]",
            "text/plain": [
              "<Figure size 432x288 with 1 Axes>"
            ]
          },
          "metadata": {
            "tags": [],
            "needs_background": "light"
          }
        }
      ]
    },
    {
      "cell_type": "code",
      "metadata": {
        "colab": {
          "base_uri": "https://localhost:8080/",
          "height": 283
        },
        "id": "-jwJbAxq-VOt",
        "outputId": "3acab5a8-cb5a-4edb-a28e-ebcdca93b0c8"
      },
      "source": [
        "data = np.random.normal(2,1,1000000) #0의 위치에서 1의 standard diviation을 가지고 100개 숫자를 만들어라\n",
        "print(data)\n",
        "plt.hist(data, bins=1000) #bins 막대그래프가 10개 있음 늘어날 수록 막대그래프의 폭이 작아짐\n",
        "plt.show()"
      ],
      "execution_count": null,
      "outputs": [
        {
          "output_type": "stream",
          "text": [
            "[2.22672837 1.02380485 2.43832483 ... 1.91236461 0.64282701 2.18120765]\n"
          ],
          "name": "stdout"
        },
        {
          "output_type": "display_data",
          "data": {
            "image/png": "[encoded data removed]",
            "text/plain": [
              "<Figure size 432x288 with 1 Axes>"
            ]
          },
          "metadata": {
            "tags": [],
            "needs_background": "light"
          }
        }
      ]
    },
    {
      "cell_type": "markdown",
      "metadata": {
        "id": "2Be42M_78hT0"
      },
      "source": [
        "np라는 큰 package안에 random이라는 module, 그 안에 normal이라는 함수가 정의되어 있음\n",
        "\n",
        "위에 얘네는 벡터이냐? right 숫자열이기 때문\n",
        "\n",
        "정규분포의 위치(loc)을 어디로 해야할까? =센터값, 중간값\n",
        "정규분포의 scale은 ? =standard diviation(폭)\n",
        "폭이 넓을수록 옆으로 넓게 퍼짐 작을 수록 삐쭉한 모양\n",
        "\n",
        "히스토그램(hist)는 matplotlib에 이미 들어있음\n",
        "numpy - 숫자를 다루는 package\n",
        "maplot - 그래프를 만드는 역할\n"
      ]
    },
    {
      "cell_type": "code",
      "metadata": {
        "id": "RvNhSm9L8ygy",
        "colab": {
          "base_uri": "https://localhost:8080/"
        },
        "outputId": "bb607926-bffe-401f-e6ce-81cd28b57383"
      },
      "source": [
        "np.random.normal"
      ],
      "execution_count": null,
      "outputs": [
        {
          "output_type": "execute_result",
          "data": {
            "text/plain": [
              "<function RandomState.normal>"
            ]
          },
          "metadata": {
            "tags": []
          },
          "execution_count": 18
        }
      ]
    },
    {
      "cell_type": "markdown",
      "metadata": {
        "id": "G0exvwBbShBE"
      },
      "source": [
        "## 2. Manipulation"
      ]
    },
    {
      "cell_type": "code",
      "metadata": {
        "id": "HgQmRXzMShBE",
        "colab": {
          "base_uri": "https://localhost:8080/"
        },
        "outputId": "8c1f9fe7-1c43-435b-82bd-d8e5514b6815"
      },
      "source": [
        "X = np.ones([2, 3, 4]) #1이 몇개? - 24개 =2x2x6, 4x6x1, 3x2x4 등등 모두 가능\n",
        "X"
      ],
      "execution_count": null,
      "outputs": [
        {
          "output_type": "execute_result",
          "data": {
            "text/plain": [
              "array([[[1., 1., 1., 1.],\n",
              "        [1., 1., 1., 1.],\n",
              "        [1., 1., 1., 1.]],\n",
              "\n",
              "       [[1., 1., 1., 1.],\n",
              "        [1., 1., 1., 1.],\n",
              "        [1., 1., 1., 1.]]])"
            ]
          },
          "metadata": {
            "tags": []
          },
          "execution_count": 35
        }
      ]
    },
    {
      "cell_type": "code",
      "metadata": {
        "colab": {
          "base_uri": "https://localhost:8080/"
        },
        "id": "OFK2ibu1U6Ez",
        "outputId": "a2803f3b-1aea-46df-8920-5d124a92e695"
      },
      "source": [
        "X.reshape(6,4,1) "
      ],
      "execution_count": null,
      "outputs": [
        {
          "output_type": "execute_result",
          "data": {
            "text/plain": [
              "array([[[1.],\n",
              "        [1.],\n",
              "        [1.],\n",
              "        [1.]],\n",
              "\n",
              "       [[1.],\n",
              "        [1.],\n",
              "        [1.],\n",
              "        [1.]],\n",
              "\n",
              "       [[1.],\n",
              "        [1.],\n",
              "        [1.],\n",
              "        [1.]],\n",
              "\n",
              "       [[1.],\n",
              "        [1.],\n",
              "        [1.],\n",
              "        [1.]],\n",
              "\n",
              "       [[1.],\n",
              "        [1.],\n",
              "        [1.],\n",
              "        [1.]],\n",
              "\n",
              "       [[1.],\n",
              "        [1.],\n",
              "        [1.],\n",
              "        [1.]]])"
            ]
          },
          "metadata": {
            "tags": []
          },
          "execution_count": 38
        }
      ]
    },
    {
      "cell_type": "markdown",
      "metadata": {
        "id": "EPbpmIoXTjBX"
      },
      "source": [
        "3차원의 행렬 - tensor \n",
        "2차원 - matrix\n",
        "1차원 -vector \n",
        "포함관계\n",
        "\n",
        "ex) [ [  1   ,     ,     ], [     ,     ,     ] ]\n",
        "1-> [1, 3, 5, 7] "
      ]
    },
    {
      "cell_type": "code",
      "metadata": {
        "id": "O-wDF4vEShBE",
        "outputId": "64d0bf8e-d25c-406f-d29f-c4316910e756"
      },
      "source": [
        "Y = X.reshape(-1, 3, 2) #귀찮으면 -1로 해놓으면 알아서 계산(여기서는 4로)\n",
        "Y"
      ],
      "execution_count": null,
      "outputs": [
        {
          "output_type": "execute_result",
          "data": {
            "text/plain": [
              "array([[[1., 1.],\n",
              "        [1., 1.],\n",
              "        [1., 1.]],\n",
              "\n",
              "       [[1., 1.],\n",
              "        [1., 1.],\n",
              "        [1., 1.]],\n",
              "\n",
              "       [[1., 1.],\n",
              "        [1., 1.],\n",
              "        [1., 1.]],\n",
              "\n",
              "       [[1., 1.],\n",
              "        [1., 1.],\n",
              "        [1., 1.]]])"
            ]
          },
          "metadata": {
            "tags": []
          },
          "execution_count": 22
        }
      ]
    },
    {
      "cell_type": "markdown",
      "metadata": {
        "id": "8LUtqUOPU1BB"
      },
      "source": [
        "밑에 두개는 skip"
      ]
    },
    {
      "cell_type": "code",
      "metadata": {
        "id": "f1QGwVduShBE",
        "outputId": "3386920c-f786-4767-da93-2c3b0dd676c8"
      },
      "source": [
        "np.allclose(X.reshape(-1, 3, 2), Y)"
      ],
      "execution_count": null,
      "outputs": [
        {
          "output_type": "execute_result",
          "data": {
            "text/plain": [
              "True"
            ]
          },
          "metadata": {
            "tags": []
          },
          "execution_count": 23
        }
      ]
    },
    {
      "cell_type": "code",
      "metadata": {
        "id": "_4QCUpttShBF"
      },
      "source": [
        "assert np.allclose(X.reshape(-1, 3, 2), Y)"
      ],
      "execution_count": null,
      "outputs": []
    },
    {
      "cell_type": "markdown",
      "metadata": {
        "id": "Hru2lI-tShBF"
      },
      "source": [
        "## 3. NumPy I/O - skip"
      ]
    },
    {
      "cell_type": "code",
      "metadata": {
        "id": "msE1ANUYShBF"
      },
      "source": [
        "a = np.random.randint(0, 10, [2, 3])\n",
        "b = np.random.random([2, 3])\n",
        "np.savez(\"test\", a, b)"
      ],
      "execution_count": null,
      "outputs": []
    },
    {
      "cell_type": "code",
      "metadata": {
        "id": "3l0iXfmUShBF",
        "outputId": "5fe2bc07-8446-43fa-e88d-0aa9caf48856"
      },
      "source": [
        "!ls -al test*"
      ],
      "execution_count": null,
      "outputs": [
        {
          "output_type": "stream",
          "text": [
            "-rw-r--r--  1 jookai  staff     562 Apr  2 00:35 test.npz\n",
            "-rw-r--r--  1 jookai  staff  123438 Mar 14 23:19 test.wav\n"
          ],
          "name": "stdout"
        }
      ]
    },
    {
      "cell_type": "code",
      "metadata": {
        "id": "a5USScB1ShBF",
        "outputId": "1f399f57-6c91-471c-e359-f88ec0d2385e"
      },
      "source": [
        "del a, b\n",
        "%who  # Print all interactive variables"
      ],
      "execution_count": null,
      "outputs": [
        {
          "output_type": "stream",
          "text": [
            "No variables match your requested type.\n"
          ],
          "name": "stdout"
        }
      ]
    },
    {
      "cell_type": "code",
      "metadata": {
        "id": "mPlh78KvShBG",
        "outputId": "22dd7701-1fa8-4ee9-eab0-886a78976692"
      },
      "source": [
        "npzfiles = np.load(\"test.npz\")\n",
        "npzfiles.files"
      ],
      "execution_count": null,
      "outputs": [
        {
          "output_type": "execute_result",
          "data": {
            "text/plain": [
              "['arr_0', 'arr_1']"
            ]
          },
          "metadata": {
            "tags": []
          },
          "execution_count": 46
        }
      ]
    },
    {
      "cell_type": "code",
      "metadata": {
        "id": "b0zYFFipShBG",
        "outputId": "05f45053-f2db-4428-c4e5-04362a03cf87"
      },
      "source": [
        "npzfiles['arr_0']"
      ],
      "execution_count": null,
      "outputs": [
        {
          "output_type": "execute_result",
          "data": {
            "text/plain": [
              "array([[1, 5, 2],\n",
              "       [1, 7, 0]])"
            ]
          },
          "metadata": {
            "tags": []
          },
          "execution_count": 48
        }
      ]
    },
    {
      "cell_type": "code",
      "metadata": {
        "id": "ZsH2_VD0nPVC",
        "colab": {
          "resources": {
            "http://localhost:8080/nbextensions/google.colab/files.js": {
              "data": "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",
              "ok": true,
              "headers": [
                [
                  "content-type",
                  "application/javascript"
                ]
              ],
              "status": 200,
              "status_text": ""
            }
          },
          "base_uri": "https://localhost:8080/",
          "height": 72
        },
        "outputId": "25103c1d-77d8-43a6-c0ab-5f7b58dc5222"
      },
      "source": [
        "from google.colab import files\n",
        "uploaded = files.upload()\n",
        "data = np.loadtxt(\"regression.csv\", delimiter=\",\", skiprows=1, dtype={'names':(\"X\", \"Y\"), 'formats':('f', 'f')})\n",
        "data"
      ],
      "execution_count": null,
      "outputs": [
        {
          "output_type": "display_data",
          "data": {
            "text/html": [
              "\n",
              "     <input type=\"file\" id=\"files-6e9645f3-22bc-4a83-873e-4d164d770596\" name=\"files[]\" multiple disabled\n",
              "        style=\"border:none\" />\n",
              "     <output id=\"result-6e9645f3-22bc-4a83-873e-4d164d770596\">\n",
              "      Upload widget is only available when the cell has been executed in the\n",
              "      current browser session. Please rerun this cell to enable.\n",
              "      </output>\n",
              "      <script src=\"/nbextensions/google.colab/files.js\"></script> "
            ],
            "text/plain": [
              "<IPython.core.display.HTML object>"
            ]
          },
          "metadata": {
            "tags": []
          }
        },
        {
          "output_type": "stream",
          "text": [
            "Saving regression.csv to regression.csv\n"
          ],
          "name": "stdout"
        }
      ]
    },
    {
      "cell_type": "code",
      "metadata": {
        "id": "GK8AaKNMShBG",
        "colab": {
          "base_uri": "https://localhost:8080/"
        },
        "outputId": "04151736-7c39-4d17-fd8f-0f821bb33b1b"
      },
      "source": [
        "np.savetxt(\"regression_saved.csv\", data, delimiter=\",\")\n",
        "!ls -al regression_saved.csv"
      ],
      "execution_count": null,
      "outputs": [
        {
          "output_type": "stream",
          "text": [
            "-rw-r--r-- 1 root root 850 Mar 21 16:33 regression_saved.csv\n"
          ],
          "name": "stdout"
        }
      ]
    },
    {
      "cell_type": "markdown",
      "metadata": {
        "id": "OtRqlLUjShBH"
      },
      "source": [
        "## 4. Inspecting"
      ]
    },
    {
      "cell_type": "code",
      "metadata": {
        "id": "hCdNQ9LdShBH",
        "colab": {
          "base_uri": "https://localhost:8080/"
        },
        "outputId": "9cda499f-5967-4ca2-df6e-2962bace08eb"
      },
      "source": [
        "arr = np.random.random([5,2,3]) #random random - random한 숫자 행렬\n",
        "arr"
      ],
      "execution_count": null,
      "outputs": [
        {
          "output_type": "execute_result",
          "data": {
            "text/plain": [
              "array([[[0.60564328, 0.46857138, 0.35404347],\n",
              "        [0.42020412, 0.31292324, 0.58905637]],\n",
              "\n",
              "       [[0.04486814, 0.52567595, 0.83380714],\n",
              "        [0.19722777, 0.87947443, 0.49660952]],\n",
              "\n",
              "       [[0.11270312, 0.71065332, 0.92466819],\n",
              "        [0.40136871, 0.49135937, 0.47185845]],\n",
              "\n",
              "       [[0.19023128, 0.42749303, 0.07710579],\n",
              "        [0.79493629, 0.85026906, 0.13824166]],\n",
              "\n",
              "       [[0.55009996, 0.76016742, 0.83866166],\n",
              "        [0.16380905, 0.13662391, 0.92855573]]])"
            ]
          },
          "metadata": {
            "tags": []
          },
          "execution_count": 42
        }
      ]
    },
    {
      "cell_type": "code",
      "metadata": {
        "colab": {
          "base_uri": "https://localhost:8080/"
        },
        "id": "M1yd4Bk9XHUq",
        "outputId": "504d1af1-4fe4-4e42-88be-9c802b1f35bc"
      },
      "source": [
        "arr=np.random.random(100) #0에서 1까지 random한 숫자를 100개 만들어라\n",
        "arr"
      ],
      "execution_count": null,
      "outputs": [
        {
          "output_type": "execute_result",
          "data": {
            "text/plain": [
              "array([0.98961279, 0.46736393, 0.46122482, 0.5220123 , 0.61226605,\n",
              "       0.51968415, 0.04707645, 0.82207381, 0.21937722, 0.56026212,\n",
              "       0.39860958, 0.98017931, 0.09399003, 0.62790024, 0.07959061,\n",
              "       0.47215758, 0.8244814 , 0.31554791, 0.07146265, 0.11650547,\n",
              "       0.50960551, 0.79234108, 0.64032143, 0.76357666, 0.13918545,\n",
              "       0.8704749 , 0.93551974, 0.84565871, 0.91977608, 0.55146265,\n",
              "       0.79848001, 0.65472444, 0.82280448, 0.33026302, 0.78447695,\n",
              "       0.85630829, 0.65002902, 0.1215672 , 0.06524187, 0.8932266 ,\n",
              "       0.3395127 , 0.00757563, 0.05578909, 0.71237577, 0.60983541,\n",
              "       0.87961502, 0.16656325, 0.25956515, 0.76818419, 0.8100375 ,\n",
              "       0.61695307, 0.01228828, 0.95249757, 0.85083168, 0.02808391,\n",
              "       0.91684356, 0.52906187, 0.73928317, 0.20302153, 0.23172193,\n",
              "       0.82370063, 0.68733145, 0.38146083, 0.45431863, 0.66295197,\n",
              "       0.44518182, 0.29829648, 0.90686242, 0.44085173, 0.62456879,\n",
              "       0.79835909, 0.89616997, 0.15562498, 0.51834703, 0.1417332 ,\n",
              "       0.36989107, 0.40570367, 0.76989827, 0.79120437, 0.20627389,\n",
              "       0.39015501, 0.52929742, 0.76647312, 0.94371142, 0.92582582,\n",
              "       0.78668272, 0.47809303, 0.02216417, 0.90832507, 0.65306931,\n",
              "       0.41462989, 0.15667038, 0.80981313, 0.5114877 , 0.31077023,\n",
              "       0.07100959, 0.29712508, 0.2223731 , 0.33887261, 0.80574498])"
            ]
          },
          "metadata": {
            "tags": []
          },
          "execution_count": 41
        }
      ]
    },
    {
      "cell_type": "code",
      "metadata": {
        "id": "PrlTloJtShBH",
        "colab": {
          "base_uri": "https://localhost:8080/"
        },
        "outputId": "aac8a437-6bb1-4c53-b100-6564d4794249"
      },
      "source": [
        "print(type(arr)) #class구나 어지간한 변수들은 모두 class\n",
        "print(len(arr)) #제일 처음 list만 생각\n",
        "print(arr.shape) #몇by몇by몇이냐\n",
        "print(arr.ndim) #차원이 무엇이냐\n",
        "print(arr.size) #elment의 수 5x2x3\n",
        "print(arr.dtype)"
      ],
      "execution_count": null,
      "outputs": [
        {
          "output_type": "stream",
          "text": [
            "<class 'numpy.ndarray'>\n",
            "5\n",
            "(5, 2, 3)\n",
            "3\n",
            "30\n",
            "float64\n"
          ],
          "name": "stdout"
        }
      ]
    },
    {
      "cell_type": "markdown",
      "metadata": {
        "id": "ll__HZZAShBH"
      },
      "source": [
        "## 5. Operations"
      ]
    },
    {
      "cell_type": "markdown",
      "metadata": {
        "id": "v2r4x2usShBH"
      },
      "source": [
        "### 5.1 Arithmetic"
      ]
    },
    {
      "cell_type": "code",
      "metadata": {
        "id": "dD6wrlL2ShBH",
        "colab": {
          "base_uri": "https://localhost:8080/"
        },
        "outputId": "0e78ac13-8f94-4d2a-e076-bd7e1a49238c"
      },
      "source": [
        "a = np.arange(1, 5)\n",
        "b = np.arange(9, 5, -1)\n",
        "print(a)\n",
        "print(b)"
      ],
      "execution_count": 19,
      "outputs": [
        {
          "output_type": "stream",
          "text": [
            "[1 2 3 4]\n",
            "[9 8 7 6]\n"
          ],
          "name": "stdout"
        }
      ]
    },
    {
      "cell_type": "code",
      "metadata": {
        "id": "bD5zmaaiShBI",
        "colab": {
          "base_uri": "https://localhost:8080/"
        },
        "outputId": "ea9a345e-12a9-4a80-ff25-c0dfedeb0648"
      },
      "source": [
        "print(a - b)\n",
        "print(a * b) #찐행렬은 아님. array이긴 하지만 실제 matrix는 아님.\n"
      ],
      "execution_count": 20,
      "outputs": [
        {
          "output_type": "stream",
          "text": [
            "[-8 -6 -4 -2]\n",
            "[ 9 16 21 24]\n"
          ],
          "name": "stdout"
        }
      ]
    },
    {
      "cell_type": "code",
      "metadata": {
        "id": "XqG8AA4oShBI",
        "colab": {
          "base_uri": "https://localhost:8080/"
        },
        "outputId": "3ee0bfeb-9e10-41d3-8c7e-0d9a0b017c10"
      },
      "source": [
        "a = np.matrix(a) #matrix를 만들기 위해\n",
        "b = np.matrix(b)\n",
        "print(a)\n",
        "print(b)"
      ],
      "execution_count": 21,
      "outputs": [
        {
          "output_type": "stream",
          "text": [
            "[[1 2 3 4]]\n",
            "[[9 8 7 6]]\n"
          ],
          "name": "stdout"
        }
      ]
    },
    {
      "cell_type": "code",
      "metadata": {
        "id": "uqCAC4oYShBI",
        "outputId": "d10ac355-08f6-476a-a7cf-811cc318b94c",
        "colab": {
          "base_uri": "https://localhost:8080/"
        }
      },
      "source": [
        "a * b.T "
      ],
      "execution_count": 22,
      "outputs": [
        {
          "output_type": "execute_result",
          "data": {
            "text/plain": [
              "matrix([[70]])"
            ]
          },
          "metadata": {
            "tags": []
          },
          "execution_count": 22
        }
      ]
    },
    {
      "cell_type": "markdown",
      "metadata": {
        "id": "kwlhl_FcafWf"
      },
      "source": [
        "행렬의 곱은 1x4 4x1 inner, outer가 같아야 가능\n",
        "\n",
        "여기서 a - matrix 1x4 그리고 b - matrix 1x4\n",
        "b.T하면 4x1로 바뀜 \n",
        "\n",
        "1x4 x 4x1 = 1x1\n",
        "하나씩 곱해서 모두 더하면 됨\n",
        "\n",
        "a.T*b \n",
        "4by4 matrix"
      ]
    },
    {
      "cell_type": "code",
      "metadata": {
        "id": "OwW-TYQ1ShBI",
        "outputId": "1ccc1c85-f4fe-402a-f411-6e9a36ac98b7",
        "colab": {
          "base_uri": "https://localhost:8080/"
        }
      },
      "source": [
        "a.T * b"
      ],
      "execution_count": 23,
      "outputs": [
        {
          "output_type": "execute_result",
          "data": {
            "text/plain": [
              "matrix([[ 9,  8,  7,  6],\n",
              "        [18, 16, 14, 12],\n",
              "        [27, 24, 21, 18],\n",
              "        [36, 32, 28, 24]])"
            ]
          },
          "metadata": {
            "tags": []
          },
          "execution_count": 23
        }
      ]
    },
    {
      "cell_type": "markdown",
      "metadata": {
        "id": "nIzwheicShBI"
      },
      "source": [
        "### 5.2 Comparison"
      ]
    },
    {
      "cell_type": "code",
      "metadata": {
        "id": "avEnIBt6ShBI",
        "outputId": "077e2f6c-95c8-4938-9341-f223daff8b2b",
        "colab": {
          "base_uri": "https://localhost:8080/"
        }
      },
      "source": [
        "a = np.arange(1, 10).reshape(3,3) #1부터 10전까지 arrange하고 3by3로 reshape\n",
        "b = np.arange(9, 0, -1).reshape(3,3)\n",
        "print(a)\n",
        "print(b)"
      ],
      "execution_count": 10,
      "outputs": [
        {
          "output_type": "stream",
          "text": [
            "[[1 2 3]\n",
            " [4 5 6]\n",
            " [7 8 9]]\n",
            "[[9 8 7]\n",
            " [6 5 4]\n",
            " [3 2 1]]\n"
          ],
          "name": "stdout"
        }
      ]
    },
    {
      "cell_type": "code",
      "metadata": {
        "id": "R2wtow0tShBJ",
        "outputId": "834c663d-4592-4c8b-de2a-f79ba9ed5769",
        "colab": {
          "base_uri": "https://localhost:8080/"
        }
      },
      "source": [
        "a == b"
      ],
      "execution_count": 11,
      "outputs": [
        {
          "output_type": "execute_result",
          "data": {
            "text/plain": [
              "array([[False, False, False],\n",
              "       [False,  True, False],\n",
              "       [False, False, False]])"
            ]
          },
          "metadata": {
            "tags": []
          },
          "execution_count": 11
        }
      ]
    },
    {
      "cell_type": "code",
      "metadata": {
        "id": "M74Vdg5xShBJ",
        "outputId": "921495a3-e8a0-4418-fa38-5287aa651ff6",
        "colab": {
          "base_uri": "https://localhost:8080/"
        }
      },
      "source": [
        "a > b"
      ],
      "execution_count": 12,
      "outputs": [
        {
          "output_type": "execute_result",
          "data": {
            "text/plain": [
              "array([[False, False, False],\n",
              "       [False, False,  True],\n",
              "       [ True,  True,  True]])"
            ]
          },
          "metadata": {
            "tags": []
          },
          "execution_count": 12
        }
      ]
    },
    {
      "cell_type": "markdown",
      "metadata": {
        "id": "8mA86qfpShBJ"
      },
      "source": [
        "### 5.3 Aggregate (sum, min, max, mean, median, std)"
      ]
    },
    {
      "cell_type": "code",
      "metadata": {
        "id": "SkhVvDeiShBJ",
        "outputId": "cf87aedd-79fe-4d44-9c6c-d0aa0f8905b2",
        "colab": {
          "base_uri": "https://localhost:8080/"
        }
      },
      "source": [
        "a.sum(), np.sum(a) #element 다 더해라"
      ],
      "execution_count": 13,
      "outputs": [
        {
          "output_type": "execute_result",
          "data": {
            "text/plain": [
              "(45, 45)"
            ]
          },
          "metadata": {
            "tags": []
          },
          "execution_count": 13
        }
      ]
    },
    {
      "cell_type": "code",
      "metadata": {
        "id": "95jUB6qWShBJ",
        "outputId": "7aee8284-a148-42fa-9c1d-c9769fded745",
        "colab": {
          "base_uri": "https://localhost:8080/"
        }
      },
      "source": [
        "a.sum(axis=0), np.sum(a, axis=0) #한 축으로만 sum을 해라"
      ],
      "execution_count": 14,
      "outputs": [
        {
          "output_type": "execute_result",
          "data": {
            "text/plain": [
              "(array([12, 15, 18]), array([12, 15, 18]))"
            ]
          },
          "metadata": {
            "tags": []
          },
          "execution_count": 14
        }
      ]
    },
    {
      "cell_type": "code",
      "metadata": {
        "id": "PP93kmgEShBK",
        "outputId": "d3a5c76d-b17e-4327-e632-1e36ca07f5fd",
        "colab": {
          "base_uri": "https://localhost:8080/"
        }
      },
      "source": [
        "a.sum(axis=1), np.sum(a, axis=1)"
      ],
      "execution_count": 15,
      "outputs": [
        {
          "output_type": "execute_result",
          "data": {
            "text/plain": [
              "(array([ 6, 15, 24]), array([ 6, 15, 24]))"
            ]
          },
          "metadata": {
            "tags": []
          },
          "execution_count": 15
        }
      ]
    },
    {
      "cell_type": "markdown",
      "metadata": {
        "id": "HRSOB-BRShBK"
      },
      "source": [
        "## Broadcasting"
      ]
    },
    {
      "cell_type": "code",
      "metadata": {
        "id": "2g-SnKKoShBK",
        "outputId": "9dcad363-a0aa-49e1-e742-ece9ffead23e"
      },
      "source": [
        "a = np.arange(1, 25).reshape(4, 6)\n",
        "a"
      ],
      "execution_count": null,
      "outputs": [
        {
          "output_type": "execute_result",
          "data": {
            "text/plain": [
              "array([[ 1,  2,  3,  4,  5,  6],\n",
              "       [ 7,  8,  9, 10, 11, 12],\n",
              "       [13, 14, 15, 16, 17, 18],\n",
              "       [19, 20, 21, 22, 23, 24]])"
            ]
          },
          "metadata": {
            "tags": []
          },
          "execution_count": 70
        }
      ]
    },
    {
      "cell_type": "code",
      "metadata": {
        "id": "JI8Ge4tMShBK",
        "outputId": "2e36f9a4-9163-4935-c14c-0de11babea1d"
      },
      "source": [
        "a + 100"
      ],
      "execution_count": null,
      "outputs": [
        {
          "output_type": "execute_result",
          "data": {
            "text/plain": [
              "array([[101, 102, 103, 104, 105, 106],\n",
              "       [107, 108, 109, 110, 111, 112],\n",
              "       [113, 114, 115, 116, 117, 118],\n",
              "       [119, 120, 121, 122, 123, 124]])"
            ]
          },
          "metadata": {
            "tags": []
          },
          "execution_count": 71
        }
      ]
    },
    {
      "cell_type": "code",
      "metadata": {
        "id": "pv5IB9_5ShBK",
        "outputId": "673c43cf-923c-41b5-ca1e-c07d65d03157"
      },
      "source": [
        "b = np.arange(6)\n",
        "b"
      ],
      "execution_count": null,
      "outputs": [
        {
          "output_type": "execute_result",
          "data": {
            "text/plain": [
              "array([0, 1, 2, 3, 4, 5])"
            ]
          },
          "metadata": {
            "tags": []
          },
          "execution_count": 72
        }
      ]
    },
    {
      "cell_type": "code",
      "metadata": {
        "id": "kGBax9WIShBL",
        "outputId": "004b37b7-44b5-4adc-a32a-96df51492311"
      },
      "source": [
        "a + b"
      ],
      "execution_count": null,
      "outputs": [
        {
          "output_type": "execute_result",
          "data": {
            "text/plain": [
              "array([[ 1,  3,  5,  7,  9, 11],\n",
              "       [ 7,  9, 11, 13, 15, 17],\n",
              "       [13, 15, 17, 19, 21, 23],\n",
              "       [19, 21, 23, 25, 27, 29]])"
            ]
          },
          "metadata": {
            "tags": []
          },
          "execution_count": 73
        }
      ]
    },
    {
      "cell_type": "code",
      "metadata": {
        "id": "3Od9qiz5ShBL",
        "outputId": "8606cf8e-55cc-41b3-dbb4-fa7b053cd260"
      },
      "source": [
        "c = np.arange(4).reshape([4,1])\n",
        "c"
      ],
      "execution_count": null,
      "outputs": [
        {
          "output_type": "execute_result",
          "data": {
            "text/plain": [
              "array([[0],\n",
              "       [1],\n",
              "       [2],\n",
              "       [3]])"
            ]
          },
          "metadata": {
            "tags": []
          },
          "execution_count": 74
        }
      ]
    },
    {
      "cell_type": "code",
      "metadata": {
        "id": "qd2_qAtKShBL",
        "outputId": "f7d936a4-3975-4fdc-803e-fec24b24925b"
      },
      "source": [
        "a + c"
      ],
      "execution_count": null,
      "outputs": [
        {
          "output_type": "execute_result",
          "data": {
            "text/plain": [
              "array([[ 1,  2,  3,  4,  5,  6],\n",
              "       [ 8,  9, 10, 11, 12, 13],\n",
              "       [15, 16, 17, 18, 19, 20],\n",
              "       [22, 23, 24, 25, 26, 27]])"
            ]
          },
          "metadata": {
            "tags": []
          },
          "execution_count": 75
        }
      ]
    }
  ]
}