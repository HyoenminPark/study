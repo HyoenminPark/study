{
  "nbformat": 4,
  "nbformat_minor": 0,
  "metadata": {
    "colab": {
      "name": "import.ipynb",
      "provenance": [],
      "include_colab_link": true
    },
    "kernelspec": {
      "name": "python3",
      "display_name": "Python 3"
    },
    "language_info": {
      "name": "python"
    }
  },
  "cells": [
    {
      "cell_type": "markdown",
      "metadata": {
        "id": "view-in-github",
        "colab_type": "text"
      },
      "source": [
        "<a href=\"https://colab.research.google.com/github/HyoenminPark/study/blob/main/import.ipynb\" target=\"_parent\"><img src=\"https://colab.research.google.com/assets/colab-badge.svg\" alt=\"Open In Colab\"/></a>"
      ]
    },
    {
      "cell_type": "code",
      "metadata": {
        "id": "JXicrkYOzPRo",
        "colab": {
          "base_uri": "https://localhost:8080/"
        },
        "outputId": "00937500-516e-47fe-9dd5-c3c9767f7913"
      },
      "source": [
        "import numpy as np\n",
        "n = np.random.randn(100)\n",
        "n"
      ],
      "execution_count": null,
      "outputs": [
        {
          "output_type": "execute_result",
          "data": {
            "text/plain": [
              "array([-0.2984732 ,  0.46680543, -0.31248781,  0.89531378,  0.66398213,\n",
              "        0.90787882, -0.5429123 , -0.49193032,  1.27604201,  0.283372  ,\n",
              "       -1.27435854, -0.10254077,  0.48370442, -0.44293207,  0.19538941,\n",
              "        1.05984236,  0.7218483 , -1.5674562 , -0.02600295, -1.3697962 ,\n",
              "        0.56246719, -0.8870505 ,  0.35908904, -1.69069564,  0.73140579,\n",
              "        1.86526453, -0.5906434 ,  0.44939964,  0.48928693,  0.94086421,\n",
              "       -0.8536742 , -0.29052743, -1.11815521, -0.58555644, -0.38663366,\n",
              "        1.07931044,  0.0637758 , -0.46286137, -0.4536296 ,  1.16563759,\n",
              "       -0.09152635,  2.4210526 ,  1.20718481, -0.6710036 , -0.80040186,\n",
              "        0.74119858, -0.09206493, -0.05212234,  0.24495373, -0.50280774,\n",
              "       -0.79766462,  0.88814084, -1.42558014,  0.26672166, -0.49816552,\n",
              "       -0.70424694,  0.31020093, -0.05386876,  0.35023531,  0.05546174,\n",
              "        0.09011844,  0.03990683, -0.67263561, -1.46445461,  0.60072741,\n",
              "        0.38780839,  0.05120389, -0.57610407,  1.44331836, -0.02397483,\n",
              "       -0.5395638 ,  0.83396522,  0.45343113, -0.22767109, -1.63235804,\n",
              "        0.15438471, -0.50975214,  0.06023786, -0.7940898 , -0.04568183,\n",
              "       -0.24786832,  0.25403956, -0.57255881, -0.3419055 ,  0.42234996,\n",
              "       -0.42622133,  0.32878576,  1.35797619,  0.67399304,  0.01559548,\n",
              "       -0.97426642,  2.67692303, -0.5033736 ,  0.55270875, -0.41410292,\n",
              "        0.45636311, -1.23874875, -0.72678367, -0.40786076,  0.62780339])"
            ]
          },
          "metadata": {
            "tags": []
          },
          "execution_count": 2
        }
      ]
    },
    {
      "cell_type": "markdown",
      "metadata": {
        "id": "rKjBgL6IEYn_"
      },
      "source": [
        "randn -> 정규분포 100개의 숫자를 만들어내라!"
      ]
    },
    {
      "cell_type": "code",
      "metadata": {
        "id": "oKT4vn4MwyLA"
      },
      "source": [
        "import matplotlib\n",
        "import matplotlib.pyplot\n",
        "from matplotlib import pyplot\n",
        "from matplotlib.pyplot import hist"
      ],
      "execution_count": null,
      "outputs": []
    },
    {
      "cell_type": "code",
      "metadata": {
        "colab": {
          "base_uri": "https://localhost:8080/",
          "height": 355
        },
        "id": "zdMV27e4EfiV",
        "outputId": "fe162866-b1e7-470f-813d-2a25d7db5399"
      },
      "source": [
        "import matplotlib\n",
        "matplotlib.pyplot.hist(n)\n",
        "\n",
        "#import matplotlib.pyplot\n",
        "#from matplotlib import pyplot\n",
        "#from matplotlib.pyplot import hist"
      ],
      "execution_count": null,
      "outputs": [
        {
          "output_type": "execute_result",
          "data": {
            "text/plain": [
              "(array([ 7.,  5., 25., 18., 21., 13.,  7.,  1.,  1.,  2.]),\n",
              " array([-1.69069564, -1.25393378, -0.81717191, -0.38041004,  0.05635183,\n",
              "         0.49311369,  0.92987556,  1.36663743,  1.8033993 ,  2.24016116,\n",
              "         2.67692303]),\n",
              " <a list of 10 Patch objects>)"
            ]
          },
          "metadata": {
            "tags": []
          },
          "execution_count": 3
        },
        {
          "output_type": "display_data",
          "data": {
            "image/png": "[encoded data removed]",
            "text/plain": [
              "<Figure size 432x288 with 1 Axes>"
            ]
          },
          "metadata": {
            "tags": [],
            "needs_background": "light"
          }
        }
      ]
    },
    {
      "cell_type": "code",
      "metadata": {
        "colab": {
          "base_uri": "https://localhost:8080/",
          "height": 355
        },
        "id": "c0ZYLrb2EppL",
        "outputId": "795514b8-8da3-4d8e-c77e-6f167618f75a"
      },
      "source": [
        "import matplotlib.pyplot\n",
        "matplotlib.pyplot.hist(n)"
      ],
      "execution_count": null,
      "outputs": [
        {
          "output_type": "execute_result",
          "data": {
            "text/plain": [
              "(array([ 7.,  5., 25., 18., 21., 13.,  7.,  1.,  1.,  2.]),\n",
              " array([-1.69069564, -1.25393378, -0.81717191, -0.38041004,  0.05635183,\n",
              "         0.49311369,  0.92987556,  1.36663743,  1.8033993 ,  2.24016116,\n",
              "         2.67692303]),\n",
              " <a list of 10 Patch objects>)"
            ]
          },
          "metadata": {
            "tags": []
          },
          "execution_count": 4
        },
        {
          "output_type": "display_data",
          "data": {
            "image/png": "[encoded data removed]",
            "text/plain": [
              "<Figure size 432x288 with 1 Axes>"
            ]
          },
          "metadata": {
            "tags": [],
            "needs_background": "light"
          }
        }
      ]
    },
    {
      "cell_type": "code",
      "metadata": {
        "colab": {
          "base_uri": "https://localhost:8080/",
          "height": 355
        },
        "id": "tmXucS5LEzBD",
        "outputId": "fae239cb-0376-4a56-de9c-818d0a34a506"
      },
      "source": [
        "from matplotlib import pyplot\n",
        "pyplot.hist(n)"
      ],
      "execution_count": null,
      "outputs": [
        {
          "output_type": "execute_result",
          "data": {
            "text/plain": [
              "(array([ 7.,  5., 25., 18., 21., 13.,  7.,  1.,  1.,  2.]),\n",
              " array([-1.69069564, -1.25393378, -0.81717191, -0.38041004,  0.05635183,\n",
              "         0.49311369,  0.92987556,  1.36663743,  1.8033993 ,  2.24016116,\n",
              "         2.67692303]),\n",
              " <a list of 10 Patch objects>)"
            ]
          },
          "metadata": {
            "tags": []
          },
          "execution_count": 5
        },
        {
          "output_type": "display_data",
          "data": {
            "image/png": "[encoded data removed]",
            "text/plain": [
              "<Figure size 432x288 with 1 Axes>"
            ]
          },
          "metadata": {
            "tags": [],
            "needs_background": "light"
          }
        }
      ]
    },
    {
      "cell_type": "code",
      "metadata": {
        "colab": {
          "base_uri": "https://localhost:8080/",
          "height": 355
        },
        "id": "Y2bxEwe1FNXH",
        "outputId": "abe92c18-9c0d-4343-a770-9c0059ca896c"
      },
      "source": [
        "from matplotlib.pyplot import hist\n",
        "hist(n)"
      ],
      "execution_count": null,
      "outputs": [
        {
          "output_type": "execute_result",
          "data": {
            "text/plain": [
              "(array([ 7.,  5., 25., 18., 21., 13.,  7.,  1.,  1.,  2.]),\n",
              " array([-1.69069564, -1.25393378, -0.81717191, -0.38041004,  0.05635183,\n",
              "         0.49311369,  0.92987556,  1.36663743,  1.8033993 ,  2.24016116,\n",
              "         2.67692303]),\n",
              " <a list of 10 Patch objects>)"
            ]
          },
          "metadata": {
            "tags": []
          },
          "execution_count": 7
        },
        {
          "output_type": "display_data",
          "data": {
            "image/png": "[encoded data removed]",
            "text/plain": [
              "<Figure size 432x288 with 1 Axes>"
            ]
          },
          "metadata": {
            "tags": [],
            "needs_background": "light"
          }
        }
      ]
    },
    {
      "cell_type": "markdown",
      "metadata": {
        "id": "2UvcvLEYD9wG"
      },
      "source": [
        "matplotlib라는 큰 패키지가 있고 그 안에 pyplot.py이라는 module이 있고 그 안에는 func도 있고 class도 있음. func 중에서는 hist라는 function도 있음 \n",
        "\n",
        "from matplotlib import pyplot -> 상위개념을 먼저 쓴 것것\n",
        "밑에는 import 부분만 따서 적으면 됨\n",
        "\n",
        "package(folder)안에 sub-folder 안에 ,py라는 module 그 안에는 func, class가 존재 "
      ]
    }
  ]
}