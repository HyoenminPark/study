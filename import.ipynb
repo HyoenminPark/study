{
  "nbformat": 4,
  "nbformat_minor": 0,
  "metadata": {
    "colab": {
      "name": "import.ipynb",
      "provenance": [],
      "include_colab_link": true
    },
    "kernelspec": {
      "name": "python3",
      "display_name": "Python 3"
    },
    "language_info": {
      "name": "python"
    }
  },
  "cells": [
    {
      "cell_type": "markdown",
      "metadata": {
        "id": "view-in-github",
        "colab_type": "text"
      },
      "source": [
        "<a href=\"https://colab.research.google.com/github/HyoenminPark/study/blob/main/import.ipynb\" target=\"_parent\"><img src=\"https://colab.research.google.com/assets/colab-badge.svg\" alt=\"Open In Colab\"/></a>"
      ]
    },
    {
      "cell_type": "code",
      "metadata": {
        "id": "JXicrkYOzPRo",
        "colab": {
          "base_uri": "https://localhost:8080/"
        },
        "outputId": "2175d2f6-e452-45f2-941b-3ddecfbae1c8"
      },
      "source": [
        "import numpy as np\n",
        "n = np.random.randn(100)\n",
        "n"
      ],
      "execution_count": 6,
      "outputs": [
        {
          "output_type": "execute_result",
          "data": {
            "text/plain": [
              "array([-0.22343309,  1.00680344, -1.5224013 ,  0.67175798, -0.20718203,\n",
              "       -0.05017075, -0.90616328,  1.45023812,  0.84357628, -1.2886004 ,\n",
              "        0.61354511,  1.00354887,  1.0432889 , -0.47153589, -1.33648269,\n",
              "       -1.69401961,  0.8458052 , -1.01846018, -0.62809968, -0.38101981,\n",
              "        1.70624996,  1.23267938, -1.17079412, -1.58666187, -1.87937192,\n",
              "        0.33345445,  0.15298374,  0.6257236 , -1.67119789, -0.5048922 ,\n",
              "        0.59203144, -1.38056813,  0.3742063 ,  0.64854795,  1.37617091,\n",
              "        1.34318853, -0.41828931,  0.15200901, -0.42729711,  1.31736548,\n",
              "        0.13801121, -0.8422482 , -1.17452472,  0.79853188, -0.87931698,\n",
              "       -0.65389386, -0.56660369, -0.36981606, -2.27039353, -0.62467721,\n",
              "       -1.21297649, -0.66304709, -0.29881967,  1.2796472 , -0.48765433,\n",
              "        1.62460396,  0.79845614, -1.20216122, -1.13373814,  0.39269044,\n",
              "        2.27893672, -0.52389297, -0.37472254,  1.22591119,  0.09352385,\n",
              "        1.28350166, -0.37317589, -0.48059941, -0.84537734,  0.21180207,\n",
              "        0.19441646, -1.8111783 , -0.04060385,  0.71248135, -0.6710912 ,\n",
              "        0.26532485,  0.74492132,  0.67793439, -0.42471867, -0.05523386,\n",
              "        1.50430991,  0.03631331,  0.45563929, -0.03794595, -0.28345265,\n",
              "        1.82956946, -0.1368564 , -0.95584763, -1.08273374,  2.48537211,\n",
              "       -1.00555848,  1.3335052 ,  1.28187378, -2.18722244, -0.14769466,\n",
              "        0.2173214 ,  0.82687231,  0.04959282, -0.88221164, -1.58203089])"
            ]
          },
          "metadata": {
            "tags": []
          },
          "execution_count": 6
        }
      ]
    },
    {
      "cell_type": "markdown",
      "metadata": {
        "id": "rKjBgL6IEYn_"
      },
      "source": [
        "randn -> 0을 중심으로 정규분포를 가지는 100개의 숫자를 만들어내라!"
      ]
    },
    {
      "cell_type": "code",
      "metadata": {
        "id": "oKT4vn4MwyLA"
      },
      "source": [
        "import matplotlib\n",
        "import matplotlib.pyplot\n",
        "from matplotlib import pyplot\n",
        "from matplotlib.pyplot import hist"
      ],
      "execution_count": 8,
      "outputs": []
    },
    {
      "cell_type": "code",
      "metadata": {
        "colab": {
          "base_uri": "https://localhost:8080/",
          "height": 355
        },
        "id": "zdMV27e4EfiV",
        "outputId": "f5f030c3-6d51-4574-8cd9-49f3b3712bba"
      },
      "source": [
        "import matplotlib\n",
        "matplotlib.pyplot.hist(n)\n",
        "\n",
        "#import matplotlib.pyplot\n",
        "#from matplotlib import pyplot\n",
        "#from matplotlib.pyplot import hist"
      ],
      "execution_count": 9,
      "outputs": [
        {
          "output_type": "execute_result",
          "data": {
            "text/plain": [
              "(array([ 4.,  7., 14., 19., 13., 11., 16., 11.,  3.,  2.]),\n",
              " array([-2.27039353, -1.79481696, -1.3192404 , -0.84366384, -0.36808727,\n",
              "         0.10748929,  0.58306586,  1.05864242,  1.53421898,  2.00979555,\n",
              "         2.48537211]),\n",
              " <a list of 10 Patch objects>)"
            ]
          },
          "metadata": {
            "tags": []
          },
          "execution_count": 9
        },
        {
          "output_type": "display_data",
          "data": {
            "image/png": "[encoded data removed]",
            "text/plain": [
              "<Figure size 432x288 with 1 Axes>"
            ]
          },
          "metadata": {
            "tags": [],
            "needs_background": "light"
          }
        }
      ]
    },
    {
      "cell_type": "code",
      "metadata": {
        "colab": {
          "base_uri": "https://localhost:8080/",
          "height": 355
        },
        "id": "c0ZYLrb2EppL",
        "outputId": "452853bf-b8f4-4676-e560-7fb6f8f49fda"
      },
      "source": [
        "import matplotlib.pyplot\n",
        "matplotlib.pyplot.hist(n)"
      ],
      "execution_count": 13,
      "outputs": [
        {
          "output_type": "execute_result",
          "data": {
            "text/plain": [
              "(array([ 4.,  7., 14., 19., 13., 11., 16., 11.,  3.,  2.]),\n",
              " array([-2.27039353, -1.79481696, -1.3192404 , -0.84366384, -0.36808727,\n",
              "         0.10748929,  0.58306586,  1.05864242,  1.53421898,  2.00979555,\n",
              "         2.48537211]),\n",
              " <a list of 10 Patch objects>)"
            ]
          },
          "metadata": {
            "tags": []
          },
          "execution_count": 13
        },
        {
          "output_type": "display_data",
          "data": {
            "image/png": "[encoded data removed]",
            "text/plain": [
              "<Figure size 432x288 with 1 Axes>"
            ]
          },
          "metadata": {
            "tags": [],
            "needs_background": "light"
          }
        }
      ]
    },
    {
      "cell_type": "code",
      "metadata": {
        "colab": {
          "base_uri": "https://localhost:8080/",
          "height": 355
        },
        "id": "tmXucS5LEzBD",
        "outputId": "24ba8ccb-e176-47b8-dd2d-599e942e38e1"
      },
      "source": [
        "from matplotlib import pyplot\n",
        "pyplot.hist(n)"
      ],
      "execution_count": 14,
      "outputs": [
        {
          "output_type": "execute_result",
          "data": {
            "text/plain": [
              "(array([ 4.,  7., 14., 19., 13., 11., 16., 11.,  3.,  2.]),\n",
              " array([-2.27039353, -1.79481696, -1.3192404 , -0.84366384, -0.36808727,\n",
              "         0.10748929,  0.58306586,  1.05864242,  1.53421898,  2.00979555,\n",
              "         2.48537211]),\n",
              " <a list of 10 Patch objects>)"
            ]
          },
          "metadata": {
            "tags": []
          },
          "execution_count": 14
        },
        {
          "output_type": "display_data",
          "data": {
            "image/png": "[encoded data removed]",
            "text/plain": [
              "<Figure size 432x288 with 1 Axes>"
            ]
          },
          "metadata": {
            "tags": [],
            "needs_background": "light"
          }
        }
      ]
    },
    {
      "cell_type": "code",
      "metadata": {
        "colab": {
          "base_uri": "https://localhost:8080/",
          "height": 355
        },
        "id": "Y2bxEwe1FNXH",
        "outputId": "50437455-0de3-479e-d2c8-7d759f672e9d"
      },
      "source": [
        "from matplotlib.pyplot import hist\n",
        "hist(n)"
      ],
      "execution_count": 15,
      "outputs": [
        {
          "output_type": "execute_result",
          "data": {
            "text/plain": [
              "(array([ 4.,  7., 14., 19., 13., 11., 16., 11.,  3.,  2.]),\n",
              " array([-2.27039353, -1.79481696, -1.3192404 , -0.84366384, -0.36808727,\n",
              "         0.10748929,  0.58306586,  1.05864242,  1.53421898,  2.00979555,\n",
              "         2.48537211]),\n",
              " <a list of 10 Patch objects>)"
            ]
          },
          "metadata": {
            "tags": []
          },
          "execution_count": 15
        },
        {
          "output_type": "display_data",
          "data": {
            "image/png": "[encoded data removed]",
            "text/plain": [
              "<Figure size 432x288 with 1 Axes>"
            ]
          },
          "metadata": {
            "tags": [],
            "needs_background": "light"
          }
        }
      ]
    },
    {
      "cell_type": "markdown",
      "metadata": {
        "id": "2UvcvLEYD9wG"
      },
      "source": [
        "matplotlib라는 큰 패키지가 있고 그 안에 pyplot.py이라는 module이 있고 그 안에는 func도 있고 class도 있음. func 중에서는 hist라는 function도 있음 \n",
        "\n",
        "from matplotlib import pyplot -> 상위개념을 먼저 쓴 것\n",
        "밑에는 import 부분만 따서 적으면 됨\n",
        "\n",
        "package(folder)안에 sub-folder 안에 ,py라는 module 그 안에는 func, class가 존재 \n",
        "\n",
        "matplotlib 같은 건 import을 써야 함 (외부패키지)\n",
        "type 함수, print 함수 같은 것은 기본으로 제공하는 것"
      ]
    }
  ]
}