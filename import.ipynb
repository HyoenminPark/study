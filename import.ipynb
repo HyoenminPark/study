{
  "nbformat": 4,
  "nbformat_minor": 0,
  "metadata": {
    "colab": {
      "name": "import.ipynb",
      "provenance": [],
      "include_colab_link": true
    },
    "kernelspec": {
      "name": "python3",
      "display_name": "Python 3"
    },
    "language_info": {
      "name": "python"
    }
  },
  "cells": [
    {
      "cell_type": "markdown",
      "metadata": {
        "id": "view-in-github",
        "colab_type": "text"
      },
      "source": [
        "<a href=\"https://colab.research.google.com/github/HyoenminPark/study/blob/main/import.ipynb\" target=\"_parent\"><img src=\"https://colab.research.google.com/assets/colab-badge.svg\" alt=\"Open In Colab\"/></a>"
      ]
    },
    {
      "cell_type": "code",
      "metadata": {
        "id": "JXicrkYOzPRo",
        "colab": {
          "base_uri": "https://localhost:8080/"
        },
        "outputId": "85fce16a-018c-4831-c357-59686231abc2"
      },
      "source": [
        "import numpy as np\n",
        "n = np.random.randn(100)\n",
        "n"
      ],
      "execution_count": 1,
      "outputs": [
        {
          "output_type": "execute_result",
          "data": {
            "text/plain": [
              "array([-1.11127154,  1.51102425,  0.48342243, -0.7706069 ,  2.38954231,\n",
              "       -0.21415358, -1.18748067,  0.53883507, -0.19802752,  0.29008368,\n",
              "       -0.51641572,  0.66475312,  0.89684641, -0.8359035 , -0.57868369,\n",
              "       -0.37800634,  0.44141735, -1.4007752 ,  1.04797171,  1.15417272,\n",
              "        0.41364901,  0.41076088,  0.63998875,  2.15338277, -2.2706891 ,\n",
              "       -0.45634511, -0.16490335,  1.08894051,  1.38234474, -0.62132791,\n",
              "       -1.0644717 ,  1.95889233,  0.39203164, -1.28952664, -0.38743198,\n",
              "        1.36874507,  0.82242274,  0.52873348, -0.60640275,  0.98208563,\n",
              "       -2.05122682, -0.79394417,  0.3497783 , -1.56311472,  0.66660084,\n",
              "       -0.60483851,  0.16890681,  0.09860776, -0.07469155,  0.62581892,\n",
              "        1.86973562, -0.85774696, -0.41176664,  0.08388152,  0.36330707,\n",
              "        0.18512923, -0.80522767,  1.84775089, -1.45562157, -0.91659863,\n",
              "        0.48474725,  1.26849919,  1.73416069, -0.44215524,  0.39210551,\n",
              "       -1.19900183,  0.40319916,  0.4950854 , -0.33926447, -0.74140865,\n",
              "        0.71904606, -0.17141204, -1.3813355 , -0.15874263,  0.13873468,\n",
              "       -0.1937921 ,  0.80776727,  1.60749393,  1.36793345, -1.53155176,\n",
              "       -0.24757421, -0.12412829, -0.30836051, -0.59245416, -1.56029705,\n",
              "       -0.5232071 , -1.58622411,  0.18116636, -1.03259582, -1.34901019,\n",
              "       -0.3407303 , -0.99111666,  1.40907883,  1.03653641, -0.21285927,\n",
              "       -0.93624804,  0.16358136, -0.5016185 , -0.67914095, -0.05566571])"
            ]
          },
          "metadata": {
            "tags": []
          },
          "execution_count": 1
        }
      ]
    },
    {
      "cell_type": "markdown",
      "metadata": {
        "id": "rKjBgL6IEYn_"
      },
      "source": [
        "randn -> 0을 중심으로 정규분포를 가지는 100개의 숫자를 만들어내라!"
      ]
    },
    {
      "cell_type": "code",
      "metadata": {
        "id": "oKT4vn4MwyLA"
      },
      "source": [
        "import matplotlib\n",
        "import matplotlib.pyplot\n",
        "from matplotlib import pyplot\n",
        "from matplotlib.pyplot import hist"
      ],
      "execution_count": null,
      "outputs": []
    },
    {
      "cell_type": "code",
      "metadata": {
        "colab": {
          "base_uri": "https://localhost:8080/",
          "height": 355
        },
        "id": "zdMV27e4EfiV",
        "outputId": "2b231267-592b-4d01-daec-f8f468409ce4"
      },
      "source": [
        "import matplotlib\n",
        "matplotlib.pyplot.hist(n)\n",
        "\n",
        "#import matplotlib.pyplot\n",
        "#from matplotlib import pyplot\n",
        "#from matplotlib.pyplot import hist"
      ],
      "execution_count": 2,
      "outputs": [
        {
          "output_type": "execute_result",
          "data": {
            "text/plain": [
              "(array([ 2.,  8.,  9., 18., 16., 19., 11.,  9.,  5.,  3.]),\n",
              " array([-2.2706891 , -1.80466596, -1.33864282, -0.87261968, -0.40659654,\n",
              "         0.0594266 ,  0.52544975,  0.99147289,  1.45749603,  1.92351917,\n",
              "         2.38954231]),\n",
              " <a list of 10 Patch objects>)"
            ]
          },
          "metadata": {
            "tags": []
          },
          "execution_count": 2
        },
        {
          "output_type": "display_data",
          "data": {
            "image/png": "[encoded data removed]",
            "text/plain": [
              "<Figure size 432x288 with 1 Axes>"
            ]
          },
          "metadata": {
            "tags": [],
            "needs_background": "light"
          }
        }
      ]
    },
    {
      "cell_type": "code",
      "metadata": {
        "colab": {
          "base_uri": "https://localhost:8080/",
          "height": 355
        },
        "id": "c0ZYLrb2EppL",
        "outputId": "795514b8-8da3-4d8e-c77e-6f167618f75a"
      },
      "source": [
        "import matplotlib.pyplot\n",
        "matplotlib.pyplot.hist(n)"
      ],
      "execution_count": null,
      "outputs": [
        {
          "output_type": "execute_result",
          "data": {
            "text/plain": [
              "(array([ 7.,  5., 25., 18., 21., 13.,  7.,  1.,  1.,  2.]),\n",
              " array([-1.69069564, -1.25393378, -0.81717191, -0.38041004,  0.05635183,\n",
              "         0.49311369,  0.92987556,  1.36663743,  1.8033993 ,  2.24016116,\n",
              "         2.67692303]),\n",
              " <a list of 10 Patch objects>)"
            ]
          },
          "metadata": {
            "tags": []
          },
          "execution_count": 4
        },
        {
          "output_type": "display_data",
          "data": {
            "image/png": "[encoded data removed]",
            "text/plain": [
              "<Figure size 432x288 with 1 Axes>"
            ]
          },
          "metadata": {
            "tags": [],
            "needs_background": "light"
          }
        }
      ]
    },
    {
      "cell_type": "code",
      "metadata": {
        "colab": {
          "base_uri": "https://localhost:8080/",
          "height": 355
        },
        "id": "tmXucS5LEzBD",
        "outputId": "fae239cb-0376-4a56-de9c-818d0a34a506"
      },
      "source": [
        "from matplotlib import pyplot\n",
        "pyplot.hist(n)"
      ],
      "execution_count": null,
      "outputs": [
        {
          "output_type": "execute_result",
          "data": {
            "text/plain": [
              "(array([ 7.,  5., 25., 18., 21., 13.,  7.,  1.,  1.,  2.]),\n",
              " array([-1.69069564, -1.25393378, -0.81717191, -0.38041004,  0.05635183,\n",
              "         0.49311369,  0.92987556,  1.36663743,  1.8033993 ,  2.24016116,\n",
              "         2.67692303]),\n",
              " <a list of 10 Patch objects>)"
            ]
          },
          "metadata": {
            "tags": []
          },
          "execution_count": 5
        },
        {
          "output_type": "display_data",
          "data": {
            "image/png": "[encoded data removed]",
            "text/plain": [
              "<Figure size 432x288 with 1 Axes>"
            ]
          },
          "metadata": {
            "tags": [],
            "needs_background": "light"
          }
        }
      ]
    },
    {
      "cell_type": "code",
      "metadata": {
        "colab": {
          "base_uri": "https://localhost:8080/",
          "height": 355
        },
        "id": "Y2bxEwe1FNXH",
        "outputId": "abe92c18-9c0d-4343-a770-9c0059ca896c"
      },
      "source": [
        "from matplotlib.pyplot import hist\n",
        "hist(n)"
      ],
      "execution_count": null,
      "outputs": [
        {
          "output_type": "execute_result",
          "data": {
            "text/plain": [
              "(array([ 7.,  5., 25., 18., 21., 13.,  7.,  1.,  1.,  2.]),\n",
              " array([-1.69069564, -1.25393378, -0.81717191, -0.38041004,  0.05635183,\n",
              "         0.49311369,  0.92987556,  1.36663743,  1.8033993 ,  2.24016116,\n",
              "         2.67692303]),\n",
              " <a list of 10 Patch objects>)"
            ]
          },
          "metadata": {
            "tags": []
          },
          "execution_count": 7
        },
        {
          "output_type": "display_data",
          "data": {
            "image/png": "[encoded data removed]",
            "text/plain": [
              "<Figure size 432x288 with 1 Axes>"
            ]
          },
          "metadata": {
            "tags": [],
            "needs_background": "light"
          }
        }
      ]
    },
    {
      "cell_type": "markdown",
      "metadata": {
        "id": "2UvcvLEYD9wG"
      },
      "source": [
        "matplotlib라는 큰 패키지가 있고 그 안에 pyplot.py이라는 module이 있고 그 안에는 func도 있고 class도 있음. func 중에서는 hist라는 function도 있음 \n",
        "\n",
        "from matplotlib import pyplot -> 상위개념을 먼저 쓴 것\n",
        "밑에는 import 부분만 따서 적으면 됨\n",
        "\n",
        "package(folder)안에 sub-folder 안에 ,py라는 module 그 안에는 func, class가 존재 \n",
        "\n",
        "matplotlib 같은 건 import을 써야 함 (외부패키지)\n",
        "type 함수, print 함수 같은 것은 기본으로 제공하는 것"
      ]
    }
  ]
}