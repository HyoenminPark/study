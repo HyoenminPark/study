{
  "nbformat": 4,
  "nbformat_minor": 0,
  "metadata": {
    "colab": {
      "name": "import.ipynb",
      "provenance": [],
      "include_colab_link": true
    },
    "kernelspec": {
      "name": "python3",
      "display_name": "Python 3"
    },
    "language_info": {
      "name": "python"
    }
  },
  "cells": [
    {
      "cell_type": "markdown",
      "metadata": {
        "id": "view-in-github",
        "colab_type": "text"
      },
      "source": [
        "<a href=\"https://colab.research.google.com/github/HyoenminPark/study/blob/main/import.ipynb\" target=\"_parent\"><img src=\"https://colab.research.google.com/assets/colab-badge.svg\" alt=\"Open In Colab\"/></a>"
      ]
    },
    {
      "cell_type": "code",
      "metadata": {
        "id": "JXicrkYOzPRo",
        "colab": {
          "base_uri": "https://localhost:8080/"
        },
        "outputId": "b59a505e-829c-4299-8c5a-0d4437c9368e"
      },
      "source": [
        "import numpy as np\n",
        "n = np.random.randn(100)\n",
        "n"
      ],
      "execution_count": 11,
      "outputs": [
        {
          "output_type": "execute_result",
          "data": {
            "text/plain": [
              "array([ 0.22941475, -0.3104656 ,  1.12390673,  0.50121232,  0.66793204,\n",
              "        0.0106844 , -1.01098281, -0.085264  ,  0.09508701,  0.12801348,\n",
              "       -0.60766266, -0.96928751, -0.44405895, -0.60344079,  0.37861612,\n",
              "        0.64379959,  1.18633388,  1.41275414, -1.29420768,  0.83949338,\n",
              "        1.74210715, -1.53211606, -2.05038906, -0.28232034,  0.50542406,\n",
              "        1.01167118, -0.33101015, -0.06506483,  1.83479575,  0.33086157,\n",
              "        0.28650562,  1.83448194, -0.16510785, -0.25247523, -0.40682892,\n",
              "        1.40158538, -0.49758846, -0.44695327,  0.72668638,  0.75100417,\n",
              "       -0.12950059, -1.41695941,  2.21432141,  0.72342265,  0.02174129,\n",
              "       -0.4615286 ,  0.25382448, -0.96915021,  0.76338943,  2.08487254,\n",
              "       -0.88472779,  1.0408247 ,  1.46359566, -0.8194285 ,  0.52572948,\n",
              "       -1.81465649,  0.01506949,  0.36928054, -0.13256324,  0.44584407,\n",
              "       -1.12213617, -0.23475158, -1.79591818, -0.46167647,  1.1726725 ,\n",
              "        2.05354318, -0.44740116, -0.60704031,  1.77547869, -1.37684947,\n",
              "        1.33101502,  2.35099032,  0.87353575, -0.53386167,  0.3095893 ,\n",
              "        1.22622462, -0.5188424 ,  0.94395866,  1.24690291, -0.96941814,\n",
              "        0.32254738, -0.80913267, -0.24986334, -0.22420141, -0.07553241,\n",
              "       -0.19327992, -0.13164612,  0.23880673, -0.6163313 , -0.6022609 ,\n",
              "       -1.10252529, -1.42924313, -0.86807585, -0.8880951 , -1.86366077,\n",
              "        0.04379586,  0.81853547, -0.56465945,  1.07663541, -1.10477562])"
            ]
          },
          "metadata": {
            "tags": []
          },
          "execution_count": 11
        }
      ]
    },
    {
      "cell_type": "markdown",
      "metadata": {
        "id": "rKjBgL6IEYn_"
      },
      "source": [
        "randn -> 0을 중심으로 정규분포를 가지는 100개의 숫자를 만들어내라!"
      ]
    },
    {
      "cell_type": "code",
      "metadata": {
        "id": "oKT4vn4MwyLA"
      },
      "source": [
        "import matplotlib\n",
        "import matplotlib.pyplot\n",
        "from matplotlib import pyplot\n",
        "from matplotlib.pyplot import hist"
      ],
      "execution_count": 12,
      "outputs": []
    },
    {
      "cell_type": "code",
      "metadata": {
        "colab": {
          "base_uri": "https://localhost:8080/",
          "height": 355
        },
        "id": "zdMV27e4EfiV",
        "outputId": "719cde55-af0e-477e-efcf-ad6f356f24c5"
      },
      "source": [
        "import matplotlib\n",
        "matplotlib.pyplot.hist(n)\n",
        "\n",
        "#import matplotlib.pyplot\n",
        "#from matplotlib import pyplot\n",
        "#from matplotlib.pyplot import hist"
      ],
      "execution_count": 13,
      "outputs": [
        {
          "output_type": "execute_result",
          "data": {
            "text/plain": [
              "(array([ 4.,  5., 12., 17., 19., 13., 11., 11.,  4.,  4.]),\n",
              " array([-2.05038906, -1.61025112, -1.17011318, -0.72997524, -0.28983731,\n",
              "         0.15030063,  0.59043857,  1.03057651,  1.47071445,  1.91085238,\n",
              "         2.35099032]),\n",
              " <a list of 10 Patch objects>)"
            ]
          },
          "metadata": {
            "tags": []
          },
          "execution_count": 13
        },
        {
          "output_type": "display_data",
          "data": {
            "image/png": "[encoded data removed]",
            "text/plain": [
              "<Figure size 432x288 with 1 Axes>"
            ]
          },
          "metadata": {
            "tags": [],
            "needs_background": "light"
          }
        }
      ]
    },
    {
      "cell_type": "code",
      "metadata": {
        "colab": {
          "base_uri": "https://localhost:8080/",
          "height": 355
        },
        "id": "c0ZYLrb2EppL",
        "outputId": "795514b8-8da3-4d8e-c77e-6f167618f75a"
      },
      "source": [
        "import matplotlib.pyplot\n",
        "matplotlib.pyplot.hist(n)"
      ],
      "execution_count": null,
      "outputs": [
        {
          "output_type": "execute_result",
          "data": {
            "text/plain": [
              "(array([ 7.,  5., 25., 18., 21., 13.,  7.,  1.,  1.,  2.]),\n",
              " array([-1.69069564, -1.25393378, -0.81717191, -0.38041004,  0.05635183,\n",
              "         0.49311369,  0.92987556,  1.36663743,  1.8033993 ,  2.24016116,\n",
              "         2.67692303]),\n",
              " <a list of 10 Patch objects>)"
            ]
          },
          "metadata": {
            "tags": []
          },
          "execution_count": 4
        },
        {
          "output_type": "display_data",
          "data": {
            "image/png": "[encoded data removed]",
            "text/plain": [
              "<Figure size 432x288 with 1 Axes>"
            ]
          },
          "metadata": {
            "tags": [],
            "needs_background": "light"
          }
        }
      ]
    },
    {
      "cell_type": "code",
      "metadata": {
        "colab": {
          "base_uri": "https://localhost:8080/",
          "height": 355
        },
        "id": "tmXucS5LEzBD",
        "outputId": "fae239cb-0376-4a56-de9c-818d0a34a506"
      },
      "source": [
        "from matplotlib import pyplot\n",
        "pyplot.hist(n)"
      ],
      "execution_count": null,
      "outputs": [
        {
          "output_type": "execute_result",
          "data": {
            "text/plain": [
              "(array([ 7.,  5., 25., 18., 21., 13.,  7.,  1.,  1.,  2.]),\n",
              " array([-1.69069564, -1.25393378, -0.81717191, -0.38041004,  0.05635183,\n",
              "         0.49311369,  0.92987556,  1.36663743,  1.8033993 ,  2.24016116,\n",
              "         2.67692303]),\n",
              " <a list of 10 Patch objects>)"
            ]
          },
          "metadata": {
            "tags": []
          },
          "execution_count": 5
        },
        {
          "output_type": "display_data",
          "data": {
            "image/png": "[encoded data removed]",
            "text/plain": [
              "<Figure size 432x288 with 1 Axes>"
            ]
          },
          "metadata": {
            "tags": [],
            "needs_background": "light"
          }
        }
      ]
    },
    {
      "cell_type": "code",
      "metadata": {
        "colab": {
          "base_uri": "https://localhost:8080/",
          "height": 355
        },
        "id": "Y2bxEwe1FNXH",
        "outputId": "abe92c18-9c0d-4343-a770-9c0059ca896c"
      },
      "source": [
        "from matplotlib.pyplot import hist\n",
        "hist(n)"
      ],
      "execution_count": null,
      "outputs": [
        {
          "output_type": "execute_result",
          "data": {
            "text/plain": [
              "(array([ 7.,  5., 25., 18., 21., 13.,  7.,  1.,  1.,  2.]),\n",
              " array([-1.69069564, -1.25393378, -0.81717191, -0.38041004,  0.05635183,\n",
              "         0.49311369,  0.92987556,  1.36663743,  1.8033993 ,  2.24016116,\n",
              "         2.67692303]),\n",
              " <a list of 10 Patch objects>)"
            ]
          },
          "metadata": {
            "tags": []
          },
          "execution_count": 7
        },
        {
          "output_type": "display_data",
          "data": {
            "image/png": "[encoded data removed]",
            "text/plain": [
              "<Figure size 432x288 with 1 Axes>"
            ]
          },
          "metadata": {
            "tags": [],
            "needs_background": "light"
          }
        }
      ]
    },
    {
      "cell_type": "markdown",
      "metadata": {
        "id": "2UvcvLEYD9wG"
      },
      "source": [
        "matplotlib라는 큰 패키지가 있고 그 안에 pyplot.py이라는 module이 있고 그 안에는 func도 있고 class도 있음. func 중에서는 hist라는 function도 있음 \n",
        "\n",
        "from matplotlib import pyplot -> 상위개념을 먼저 쓴 것\n",
        "밑에는 import 부분만 따서 적으면 됨\n",
        "\n",
        "package(folder)안에 sub-folder 안에 ,py라는 module 그 안에는 func, class가 존재 \n",
        "\n",
        "matplotlib 같은 건 import을 써야 함 (외부패키지)\n",
        "type 함수, print 함수 같은 것은 기본으로 제공하는 것"
      ]
    }
  ]
}