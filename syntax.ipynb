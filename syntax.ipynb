{
  "nbformat": 4,
  "nbformat_minor": 0,
  "metadata": {
    "kernelspec": {
      "display_name": "Python 3",
      "language": "python",
      "name": "python3"
    },
    "language_info": {
      "codemirror_mode": {
        "name": "ipython",
        "version": 3
      },
      "file_extension": ".py",
      "mimetype": "text/x-python",
      "name": "python",
      "nbconvert_exporter": "python",
      "pygments_lexer": "ipython3",
      "version": "3.7.1"
    },
    "colab": {
      "name": "syntax.ipynb",
      "provenance": [],
      "include_colab_link": true
    }
  },
  "cells": [
    {
      "cell_type": "markdown",
      "metadata": {
        "id": "view-in-github",
        "colab_type": "text"
      },
      "source": [
        "<a href=\"https://colab.research.google.com/github/HyoenminPark/study/blob/main/syntax.ipynb\" target=\"_parent\"><img src=\"https://colab.research.google.com/assets/colab-badge.svg\" alt=\"Open In Colab\"/></a>"
      ]
    },
    {
      "cell_type": "code",
      "metadata": {
        "id": "Fu2mzgrqSLAU",
        "outputId": "283876b5-0fc9-4961-d92d-d242b3c222de"
      },
      "source": [
        "a = [1, 2, 3, 4]\n",
        "for i in a:\n",
        "    print(i)"
      ],
      "execution_count": null,
      "outputs": [
        {
          "output_type": "stream",
          "text": [
            "1\n",
            "2\n",
            "3\n",
            "4\n"
          ],
          "name": "stdout"
        }
      ]
    },
    {
      "cell_type": "code",
      "metadata": {
        "id": "XSJxLJVCSLAW",
        "outputId": "921b10b7-3bc8-4345-a6b2-16253a900c95"
      },
      "source": [
        "a = [1, 2, 3, 4]\n",
        "for i in range(len(a)):\n",
        "    print(a[i])"
      ],
      "execution_count": null,
      "outputs": [
        {
          "output_type": "stream",
          "text": [
            "1\n",
            "2\n",
            "3\n",
            "4\n"
          ],
          "name": "stdout"
        }
      ]
    },
    {
      "cell_type": "code",
      "metadata": {
        "id": "VTfxVRdgSLAW",
        "outputId": "7b430ba8-015e-4296-c883-ce2b3f9ed43b"
      },
      "source": [
        "a = ['red', 'green', 'blue', 'purple']\n",
        "for i in a:\n",
        "    print(i)"
      ],
      "execution_count": null,
      "outputs": [
        {
          "output_type": "stream",
          "text": [
            "red\n",
            "green\n",
            "blue\n",
            "purple\n"
          ],
          "name": "stdout"
        }
      ]
    },
    {
      "cell_type": "code",
      "metadata": {
        "id": "Vc-7pW85SLAW",
        "outputId": "9394e177-c8c8-44db-ff28-1e9566072bb3"
      },
      "source": [
        "a = ['red', 'green', 'blue', 'purple']\n",
        "for i in range(len(a)):\n",
        "    print(a[i])"
      ],
      "execution_count": null,
      "outputs": [
        {
          "output_type": "stream",
          "text": [
            "red\n",
            "green\n",
            "blue\n",
            "purple\n"
          ],
          "name": "stdout"
        }
      ]
    },
    {
      "cell_type": "code",
      "metadata": {
        "id": "dD-ephD3SLAX",
        "outputId": "526c3a46-4740-485b-fdad-946f439eea40",
        "colab": {
          "base_uri": "https://localhost:8080/"
        }
      },
      "source": [
        "a = 1\n",
        "if a == 0:\n",
        "    print(a)\n",
        "else:\n",
        "    print(a+1)"
      ],
      "execution_count": 1,
      "outputs": [
        {
          "output_type": "stream",
          "text": [
            "2\n"
          ],
          "name": "stdout"
        }
      ]
    },
    {
      "cell_type": "code",
      "metadata": {
        "id": "M0AZaDMvSLAY",
        "colab": {
          "base_uri": "https://localhost:8080/"
        },
        "outputId": "9dac0f3f-25ce-411f-b7be-03abb293f873"
      },
      "source": [
        "for i in range(1, 3):\n",
        "    for j in range(3, 5):\n",
        "      for k in range(5,7):\n",
        "        print(i*j*k)"
      ],
      "execution_count": null,
      "outputs": [
        {
          "output_type": "stream",
          "text": [
            "15\n",
            "18\n",
            "20\n",
            "24\n",
            "30\n",
            "36\n",
            "40\n",
            "48\n"
          ],
          "name": "stdout"
        }
      ]
    },
    {
      "cell_type": "code",
      "metadata": {
        "id": "ZPpZmVIHSLAY",
        "outputId": "0bbcc529-c1d8-4774-e1ad-9de8b9e065ce"
      },
      "source": [
        "for i in range(1, 3):\n",
        "    for j in range(3, 5):\n",
        "        if j >=4:\n",
        "            print(i*j)"
      ],
      "execution_count": null,
      "outputs": [
        {
          "output_type": "stream",
          "text": [
            "4\n",
            "8\n"
          ],
          "name": "stdout"
        }
      ]
    },
    {
      "cell_type": "code",
      "metadata": {
        "id": "JQXk5vi0SLAY",
        "colab": {
          "base_uri": "https://localhost:8080/"
        },
        "outputId": "29892622-1ec0-4d49-aca9-5e5c32288490"
      },
      "source": [
        "a = [1, 2, 3, 4]\n",
        "b = [i for i in a if i >=2]\n",
        "print(b)"
      ],
      "execution_count": null,
      "outputs": [
        {
          "output_type": "stream",
          "text": [
            "[2, 3, 4]\n"
          ],
          "name": "stdout"
        }
      ]
    },
    {
      "cell_type": "code",
      "metadata": {
        "id": "MDmBGZ3LSLAZ",
        "outputId": "bd06f885-7334-43d9-d92d-848c615f6771"
      },
      "source": [
        "a = ['red', 'green', 'blue', 'purple']\n",
        "b = [i for i in a if len(i) >=4]\n",
        "b"
      ],
      "execution_count": null,
      "outputs": [
        {
          "output_type": "execute_result",
          "data": {
            "text/plain": [
              "['green', 'blue', 'purple']"
            ]
          },
          "metadata": {
            "tags": []
          },
          "execution_count": 13
        }
      ]
    },
    {
      "cell_type": "code",
      "metadata": {
        "id": "-x47KsU0odN5",
        "outputId": "bbce19aa-e924-46d7-9e95-d11f58c09873",
        "colab": {
          "base_uri": "https://localhost:8080/"
        }
      },
      "source": [
        "b=[1, 'a', {'a':[3.6], 'b':[9]}, 'b']\n",
        "print(b[-2]['b'][0])"
      ],
      "execution_count": 9,
      "outputs": [
        {
          "output_type": "stream",
          "text": [
            "9\n"
          ],
          "name": "stdout"
        }
      ]
    },
    {
      "cell_type": "code",
      "metadata": {
        "id": "XqejLoXYpt2N",
        "outputId": "4be81ce0-cbea-4e83-d38e-a98359667a90",
        "colab": {
          "base_uri": "https://localhost:8080/"
        }
      },
      "source": [
        "e=[1,1.2,'k',[1,[2],{'a', 'apple'}]]\n",
        "for x in e:\n",
        "  if type(x)=='dict':\n",
        "    print(x)\n",
        "  else:\n",
        "    if x=='k':\n",
        "      print(x)"
      ],
      "execution_count": 13,
      "outputs": [
        {
          "output_type": "stream",
          "text": [
            "k\n"
          ],
          "name": "stdout"
        }
      ]
    }
  ]
}