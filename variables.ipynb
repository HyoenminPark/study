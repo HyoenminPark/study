{
  "nbformat": 4,
  "nbformat_minor": 0,
  "metadata": {
    "colab": {
      "name": "variables.ipynb",
      "provenance": [],
      "authorship_tag": "ABX9TyOuve2SryUJsBsoc8Q+I0HD",
      "include_colab_link": true
    },
    "kernelspec": {
      "name": "python3",
      "display_name": "Python 3"
    },
    "language_info": {
      "name": "python"
    }
  },
  "cells": [
    {
      "cell_type": "markdown",
      "metadata": {
        "id": "view-in-github",
        "colab_type": "text"
      },
      "source": [
        "<a href=\"https://colab.research.google.com/github/HyoenminPark/study/blob/main/variables.ipynb\" target=\"_parent\"><img src=\"https://colab.research.google.com/assets/colab-badge.svg\" alt=\"Open In Colab\"/></a>"
      ]
    },
    {
      "cell_type": "code",
      "metadata": {
        "id": "goAyoU7vRheI",
        "outputId": "c32cc600-3c42-4dc2-b77d-84782e8fe65a"
      },
      "source": [
        "a = 1; print(type(a))"
      ],
      "execution_count": null,
      "outputs": [
        {
          "output_type": "stream",
          "text": [
            "<class 'int'>\n"
          ],
          "name": "stdout"
        }
      ]
    },
    {
      "cell_type": "code",
      "metadata": {
        "id": "txxnoqJuRheJ",
        "outputId": "713e5491-c822-43d7-ec7b-a00348e02708"
      },
      "source": [
        "a = 1; a = float(a); print(type(a))"
      ],
      "execution_count": null,
      "outputs": [
        {
          "output_type": "stream",
          "text": [
            "<class 'float'>\n"
          ],
          "name": "stdout"
        }
      ]
    },
    {
      "cell_type": "markdown",
      "metadata": {
        "id": "XA1ZPY7u--h4"
      },
      "source": [
        "마지막 변수만 나오기 때문에 print를 써야 함.\n",
        ";(세미콜론) 사용하면 한 줄로 코드 작성 가능.\n",
        "# 변수의 type \n",
        "a=1 \n",
        "print(type(a)) \n",
        "<class 'int'> - 숫자 중 정수다 \n",
        "a= 1.22 면? \n",
        "<class 'float'> - 숫자 중 소수다\n"
      ]
    },
    {
      "cell_type": "code",
      "metadata": {
        "id": "By9UCBctRheK",
        "outputId": "b0e2dc33-a3e3-4801-ffe4-b69ac0c74b13"
      },
      "source": [
        "a = 1.2; a = int(a); print(type(a))"
      ],
      "execution_count": null,
      "outputs": [
        {
          "output_type": "stream",
          "text": [
            "<class 'int'>\n"
          ],
          "name": "stdout"
        }
      ]
    },
    {
      "cell_type": "markdown",
      "metadata": {
        "id": "Dbqwc64v_ZOw"
      },
      "source": [
        "a=1; a = float(a); print(type(a)); print(a)\n",
        "1을 소수로 바꾸면 1.0 / 타입과 print \n",
        "<class 'float'> 1.0 \n",
        "\n",
        "a=1.2; a=int(a); print(type(a)); print(a)\n",
        "<class 'int'> 1(반올림)"
      ]
    },
    {
      "cell_type": "code",
      "metadata": {
        "id": "SyP0PB86RheL",
        "outputId": "e10d274f-e7fd-4cdd-a822-847fb83560ec"
      },
      "source": [
        "a = '123'; print(type(a)); print(a[1])"
      ],
      "execution_count": null,
      "outputs": [
        {
          "output_type": "stream",
          "text": [
            "<class 'str'>\n",
            "2\n"
          ],
          "name": "stdout"
        }
      ]
    },
    {
      "cell_type": "markdown",
      "metadata": {
        "id": "aoTzxVrL_bv3"
      },
      "source": [
        "quote, double quote: string(문자)\n",
        "문자를 쓸 때는 quote 필요"
      ]
    },
    {
      "cell_type": "code",
      "metadata": {
        "id": "byDy9oFERheL",
        "outputId": "bfc3fed4-2c45-4830-a723-0981b1b02914"
      },
      "source": [
        "a = '123'; a = list(a); print(type(a)); print(a); print(a[2])"
      ],
      "execution_count": null,
      "outputs": [
        {
          "output_type": "stream",
          "text": [
            "<class 'list'>\n",
            "['1', '2', '3']\n",
            "3\n"
          ],
          "name": "stdout"
        }
      ]
    },
    {
      "cell_type": "code",
      "metadata": {
        "colab": {
          "base_uri": "https://localhost:8080/"
        },
        "id": "Xk3CrFcIB6IA",
        "outputId": "abb34c99-1429-470a-8a9e-a51c4104152c"
      },
      "source": [
        "a='love'\n",
        "a=list(a)\n",
        "print(a)\n",
        "print(type(a))\n",
        "print(a[1])"
      ],
      "execution_count": null,
      "outputs": [
        {
          "output_type": "stream",
          "text": [
            "['l', 'o', 'v', 'e']\n",
            "<class 'list'>\n",
            "o\n"
          ],
          "name": "stdout"
        }
      ]
    },
    {
      "cell_type": "code",
      "metadata": {
        "colab": {
          "base_uri": "https://localhost:8080/"
        },
        "id": "uucmzRzfIIzf",
        "outputId": "b7a071d0-7b34-4be2-da6c-98db4fe90d86"
      },
      "source": [
        "a={'a':'apple', 'b':'orange'}\n",
        "print(type(a))\n",
        "print(a['b'])"
      ],
      "execution_count": null,
      "outputs": [
        {
          "output_type": "stream",
          "text": [
            "<class 'dict'>\n",
            "orange\n"
          ],
          "name": "stdout"
        }
      ]
    },
    {
      "cell_type": "code",
      "metadata": {
        "colab": {
          "base_uri": "https://localhost:8080/"
        },
        "id": "mRRm-y4GIaYk",
        "outputId": "3b32d930-de05-4a0d-87da-10d76b61562f"
      },
      "source": [
        "a={'a':'apple', 'b':'orange'}\n",
        "print(a['a'])"
      ],
      "execution_count": null,
      "outputs": [
        {
          "output_type": "stream",
          "text": [
            "apple\n"
          ],
          "name": "stdout"
        }
      ]
    },
    {
      "cell_type": "markdown",
      "metadata": {
        "id": "q9QY7W2s_jpV"
      },
      "source": [
        "index : a='korea'; a[0] \n",
        "'k' (숫자열 몇 번째인지! 첫번째는 0부터 시작)"
      ]
    },
    {
      "cell_type": "code",
      "metadata": {
        "id": "DfS-gknCRheL",
        "colab": {
          "base_uri": "https://localhost:8080/"
        },
        "outputId": "62592b4f-a4e1-4ce8-ef8b-03735c28cff7"
      },
      "source": [
        "a = [1,'2', [3, '4']]; print(type(a)); print(a[0]); print(a[1]); print(a[2][1])"
      ],
      "execution_count": null,
      "outputs": [
        {
          "output_type": "stream",
          "text": [
            "<class 'list'>\n",
            "1\n",
            "2\n",
            "4\n"
          ],
          "name": "stdout"
        }
      ]
    },
    {
      "cell_type": "markdown",
      "metadata": {
        "id": "_OzSGFxm_pyG"
      },
      "source": [
        "a='123'; a=list(a); a \n",
        "['1', '2', '3'] -> a를 하나하나 쪼갬 \n",
        "\n",
        "a='123'; print(type(a)); a= list(a); print(type(a))\n",
        "<class 'str'> <class 'list'>\n",
        "\n",
        "list -> a = [1, 'cde', 4] 섞여있어도 listing만 되면 상관 X\n",
        "list 속에 list가 들어올 수도 있음"
      ]
    },
    {
      "cell_type": "code",
      "metadata": {
        "id": "wuUZdEnyRheM",
        "outputId": "3f1479d8-f8d2-43b0-b33e-f54ac9e17f6d"
      },
      "source": [
        "a = (1,'2', [3, '4']); print(type(a)); print(a[0]); print(a[1]); print(a[2])"
      ],
      "execution_count": null,
      "outputs": [
        {
          "output_type": "stream",
          "text": [
            "<class 'tuple'>\n",
            "1\n",
            "2\n",
            "[3, '4']\n"
          ],
          "name": "stdout"
        }
      ]
    },
    {
      "cell_type": "markdown",
      "metadata": {
        "id": "dkxyyD2q_2Wx"
      },
      "source": [
        "tuple과 list는 거의 동일\n",
        "a = [1, 2, 3] -> list\n",
        "a = (1, 2, 3) -> tuple\n",
        "a = [1, 2, 3]\n",
        "a[0] = -1 \n",
        "a\n",
        "[-1, 2, 3] \n",
        "\n",
        "a = (1, 2, 3)\n",
        "a[0] = -1 \n",
        "a\n",
        "error\n",
        "tuple - object does not support item assignment\n",
        "(변수를 바꿀 수 없음 so 좀 더 안전)\n"
      ]
    },
    {
      "cell_type": "code",
      "metadata": {
        "id": "dp58YdYfo82c",
        "colab": {
          "base_uri": "https://localhost:8080/"
        },
        "outputId": "66d3a925-1ced-47f6-a381-03af92af30d6"
      },
      "source": [
        "a=[1,2,3]\n",
        "a[1]=44\n",
        "print(a)"
      ],
      "execution_count": null,
      "outputs": [
        {
          "output_type": "stream",
          "text": [
            "[1, 44, 3]\n"
          ],
          "name": "stdout"
        }
      ]
    },
    {
      "cell_type": "code",
      "metadata": {
        "id": "XWxRuoUZpB0r",
        "colab": {
          "base_uri": "https://localhost:8080/",
          "height": 208
        },
        "outputId": "1fba5983-baae-4436-c962-8ecb1c8524fe"
      },
      "source": [
        "a=(1,2,3)\n",
        "a[1]=343\n",
        "print(a)"
      ],
      "execution_count": null,
      "outputs": [
        {
          "output_type": "error",
          "ename": "TypeError",
          "evalue": "ignored",
          "traceback": [
            "\u001b[0;31m---------------------------------------------------------------------------\u001b[0m",
            "\u001b[0;31mTypeError\u001b[0m                                 Traceback (most recent call last)",
            "\u001b[0;32m<ipython-input-26-87abd46ab8dc>\u001b[0m in \u001b[0;36m<module>\u001b[0;34m()\u001b[0m\n\u001b[1;32m      1\u001b[0m \u001b[0ma\u001b[0m\u001b[0;34m=\u001b[0m\u001b[0;34m(\u001b[0m\u001b[0;36m1\u001b[0m\u001b[0;34m,\u001b[0m\u001b[0;36m2\u001b[0m\u001b[0;34m,\u001b[0m\u001b[0;36m3\u001b[0m\u001b[0;34m)\u001b[0m\u001b[0;34m\u001b[0m\u001b[0;34m\u001b[0m\u001b[0m\n\u001b[0;32m----> 2\u001b[0;31m \u001b[0ma\u001b[0m\u001b[0;34m[\u001b[0m\u001b[0;36m1\u001b[0m\u001b[0;34m]\u001b[0m\u001b[0;34m=\u001b[0m\u001b[0;36m343\u001b[0m\u001b[0;34m\u001b[0m\u001b[0;34m\u001b[0m\u001b[0m\n\u001b[0m\u001b[1;32m      3\u001b[0m \u001b[0mprint\u001b[0m\u001b[0;34m(\u001b[0m\u001b[0ma\u001b[0m\u001b[0;34m)\u001b[0m\u001b[0;34m\u001b[0m\u001b[0;34m\u001b[0m\u001b[0m\n",
            "\u001b[0;31mTypeError\u001b[0m: 'tuple' object does not support item assignment"
          ]
        }
      ]
    },
    {
      "cell_type": "code",
      "metadata": {
        "id": "2sivfloGRheM",
        "outputId": "5c768bb7-e02b-4c87-a76e-3e992cdb244e"
      },
      "source": [
        "a =\t{\"a\": \"apple\", \"b\": \"orange\", \"c\": 2014}\n",
        "print(type(a))\n",
        "print(a[\"a\"])"
      ],
      "execution_count": null,
      "outputs": [
        {
          "output_type": "stream",
          "text": [
            "<class 'dict'>\n",
            "apple\n"
          ],
          "name": "stdout"
        }
      ]
    },
    {
      "cell_type": "markdown",
      "metadata": {
        "id": "bMyqd2C1B95F"
      },
      "source": [
        "a = {\"a\": \"apple\", \"b\": \"orange\", \"c\": 2014} \n",
        "\n",
        "print(type(a))\n",
        "<class 'dict'>\n",
        "dict에서 access할 때\n",
        "a = {\"a\": \"apple\", \"b\": \"orange\", \"c\": 2014} \n",
        "a[\"c\"]\n",
        "2014\n",
        "\n",
        "a = {'a': 'apple', 'b' : orange', 'c' : 2014}\n",
        "a['c'] = 2021\n",
        "a\n",
        "{'a': 'apple', 'b': 'orange', 'c': 2021}\n",
        "\n",
        "dic은 named되어 있기 때문에 순서를 따지지 X"
      ]
    },
    {
      "cell_type": "code",
      "metadata": {
        "id": "A7teRXuCRheN",
        "colab": {
          "base_uri": "https://localhost:8080/"
        },
        "outputId": "583b4ad9-1494-4975-d708-f9e9ffe33d40"
      },
      "source": [
        "a=[(1,2,3), (3,8,0)]\n",
        "print(type(a))\n",
        "print(type(a[1]))"
      ],
      "execution_count": 1,
      "outputs": [
        {
          "output_type": "stream",
          "text": [
            "<class 'list'>\n",
            "<class 'tuple'>\n"
          ],
          "name": "stdout"
        }
      ]
    },
    {
      "cell_type": "code",
      "metadata": {
        "colab": {
          "base_uri": "https://localhost:8080/"
        },
        "id": "VnEzS2yoAK6t",
        "outputId": "425aeebe-8ae9-4a93-9130-7e0f3c084de3"
      },
      "source": [
        "a=2.0\n",
        "a=int(a)\n",
        "print(type(a))\n",
        "print(a)"
      ],
      "execution_count": null,
      "outputs": [
        {
          "output_type": "stream",
          "text": [
            "<class 'int'>\n",
            "2\n"
          ],
          "name": "stdout"
        }
      ]
    }
  ]
}