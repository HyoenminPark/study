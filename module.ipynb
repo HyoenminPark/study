{
  "nbformat": 4,
  "nbformat_minor": 0,
  "metadata": {
    "colab": {
      "name": "module.ipynb",
      "provenance": [],
      "include_colab_link": true
    },
    "kernelspec": {
      "name": "python3",
      "display_name": "Python 3"
    },
    "language_info": {
      "name": "python"
    }
  },
  "cells": [
    {
      "cell_type": "markdown",
      "metadata": {
        "id": "view-in-github",
        "colab_type": "text"
      },
      "source": [
        "<a href=\"https://colab.research.google.com/github/HyoenminPark/study/blob/main/module.ipynb\" target=\"_parent\"><img src=\"https://colab.research.google.com/assets/colab-badge.svg\" alt=\"Open In Colab\"/></a>"
      ]
    },
    {
      "cell_type": "code",
      "metadata": {
        "id": "sU1MEIdt2UEc"
      },
      "source": [
        "class cal:\n",
        "  def __init__(self):\n",
        "    self.result = 0\n",
        "  def add(self, n):\n",
        "    self.result += n\n",
        "    return self.result"
      ],
      "execution_count": null,
      "outputs": []
    },
    {
      "cell_type": "markdown",
      "metadata": {
        "id": "NJem9dYECQCa"
      },
      "source": [
        "module 형태는 -.py\n",
        "함수나 변수 또는 클래스를 모아놓은 파일\n",
        "mod1.py mod2.py mod3.py 등등 이 전체를 한 폴더 속에 넣고 A라 이름 붙일 수 있고 또 mod4.py, mod5.py, mod6.py 등등이 담긴 폴더를 B라 이름 붙일 수 있고 .... .... \n",
        "이 전체를 합쳐서 D라 이름 붙일 수도 있고 .... \n",
        "\n",
        "module은 파일 패키지는 묶어서 한덩어리로 만든 것\n",
        "\n",
        "module은 class, func으로 이루어짐 "
      ]
    },
    {
      "cell_type": "code",
      "metadata": {
        "id": "DK4vTA6T4NN0"
      },
      "source": [
        "def func(a, b, x):\n",
        "  y = a*x + b\n",
        "  return y"
      ],
      "execution_count": null,
      "outputs": []
    }
  ]
}