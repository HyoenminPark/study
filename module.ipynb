{
  "nbformat": 4,
  "nbformat_minor": 0,
  "metadata": {
    "colab": {
      "name": "module.ipynb",
      "provenance": [],
      "include_colab_link": true
    },
    "kernelspec": {
      "name": "python3",
      "display_name": "Python 3"
    },
    "language_info": {
      "name": "python"
    }
  },
  "cells": [
    {
      "cell_type": "markdown",
      "metadata": {
        "id": "view-in-github",
        "colab_type": "text"
      },
      "source": [
        "<a href=\"https://colab.research.google.com/github/HyoenminPark/study/blob/main/module.ipynb\" target=\"_parent\"><img src=\"https://colab.research.google.com/assets/colab-badge.svg\" alt=\"Open In Colab\"/></a>"
      ]
    },
    {
      "cell_type": "code",
      "metadata": {
        "id": "sU1MEIdt2UEc"
      },
      "source": [
        "class cal:\n",
        "  def __init__(self):\n",
        "    self.result = 0\n",
        "  def add(self, n):\n",
        "    self.result += n\n",
        "    return self.result"
      ],
      "execution_count": null,
      "outputs": []
    },
    {
      "cell_type": "markdown",
      "metadata": {
        "id": "NJem9dYECQCa"
      },
      "source": [
        "class = 함수+변수\n",
        "변수->self.result(result가 변수)\n",
        "class가 만들어내는 자기자신의 변수\n",
        "self.result +=n -> 자기자신에 n만큼 더 더해준는 것\n",
        "\n",
        "**module** 형태는 -.py\n",
        "함수나 변수 또는 클래스를 모아놓은 파일\n",
        "mod1.py mod2.py mod3.py 등등 이 전체를 한 폴더 속에 넣고 A라 이름 붙일 수 있고 또 mod4.py, mod5.py, mod6.py 등등이 담긴 폴더를 B라 이름 붙일 수 있고 .... .... \n",
        "이 전체를 합쳐서 D라 이름 붙일 수도 있고 .... \n",
        "\n",
        "module은 파일 패키지는 묶어서 한덩어리로 만든 것\n",
        "\n",
        "module은 class, func으로 이루어짐 "
      ]
    },
    {
      "cell_type": "code",
      "metadata": {
        "id": "DK4vTA6T4NN0"
      },
      "source": [
        "def func(a, b, x):\n",
        "  y = a*x + b\n",
        "  return y"
      ],
      "execution_count": 3,
      "outputs": []
    },
    {
      "cell_type": "code",
      "metadata": {
        "id": "BZuuVEako-JP",
        "outputId": "0fae90c1-bf82-48c8-8471-26cad7e924c8",
        "colab": {
          "base_uri": "https://localhost:8080/"
        }
      },
      "source": [
        "func(1515,1235135,-1253)"
      ],
      "execution_count": 5,
      "outputs": [
        {
          "output_type": "execute_result",
          "data": {
            "text/plain": [
              "-663160"
            ]
          },
          "metadata": {
            "tags": []
          },
          "execution_count": 5
        }
      ]
    },
    {
      "cell_type": "code",
      "metadata": {
        "id": "8XtC65kKpL9M"
      },
      "source": [
        "class cal:\n",
        "  def __init__(self):\n",
        "    self.result=0\n",
        "  def add(self,n):\n",
        "    self.result+=n\n",
        "    return self.result"
      ],
      "execution_count": 19,
      "outputs": []
    },
    {
      "cell_type": "code",
      "metadata": {
        "id": "4Ig57iJgp_o_",
        "outputId": "304f86cb-1776-4da1-bde1-16fbf3ae6619",
        "colab": {
          "base_uri": "https://localhost:8080/"
        }
      },
      "source": [
        "A=cal()\n",
        "A.result"
      ],
      "execution_count": 20,
      "outputs": [
        {
          "output_type": "execute_result",
          "data": {
            "text/plain": [
              "0"
            ]
          },
          "metadata": {
            "tags": []
          },
          "execution_count": 20
        }
      ]
    },
    {
      "cell_type": "code",
      "metadata": {
        "id": "iUYXEtB5qLmn",
        "outputId": "14316b2c-cd97-4e12-8e57-e4b6a68e025a",
        "colab": {
          "base_uri": "https://localhost:8080/"
        }
      },
      "source": [
        "A.add(4)"
      ],
      "execution_count": 21,
      "outputs": [
        {
          "output_type": "execute_result",
          "data": {
            "text/plain": [
              "4"
            ]
          },
          "metadata": {
            "tags": []
          },
          "execution_count": 21
        }
      ]
    },
    {
      "cell_type": "code",
      "metadata": {
        "id": "KyHAMAzuq2XC",
        "outputId": "606f7584-5e94-4dbd-a379-1c1b439e1433",
        "colab": {
          "base_uri": "https://localhost:8080/"
        }
      },
      "source": [
        "A.add(130414)"
      ],
      "execution_count": 22,
      "outputs": [
        {
          "output_type": "execute_result",
          "data": {
            "text/plain": [
              "130418"
            ]
          },
          "metadata": {
            "tags": []
          },
          "execution_count": 22
        }
      ]
    },
    {
      "cell_type": "code",
      "metadata": {
        "id": "EpG9rCJNqCuH"
      },
      "source": [
        "A라는 객체를 찍어냄"
      ],
      "execution_count": null,
      "outputs": []
    }
  ]
}