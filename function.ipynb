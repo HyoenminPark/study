{
  "nbformat": 4,
  "nbformat_minor": 0,
  "metadata": {
    "colab": {
      "name": "function.ipynb",
      "provenance": [],
      "include_colab_link": true
    },
    "kernelspec": {
      "name": "python3",
      "display_name": "Python 3"
    }
  },
  "cells": [
    {
      "cell_type": "markdown",
      "metadata": {
        "id": "view-in-github",
        "colab_type": "text"
      },
      "source": [
        "<a href=\"https://colab.research.google.com/github/HyoenminPark/study/blob/main/function.ipynb\" target=\"_parent\"><img src=\"https://colab.research.google.com/assets/colab-badge.svg\" alt=\"Open In Colab\"/></a>"
      ]
    },
    {
      "cell_type": "code",
      "metadata": {
        "id": "hpc_mhgAye2S"
      },
      "source": [
        "def add(a,b):\n",
        "  return a+b\n",
        "\n",
        "def subtract(a,b):\n",
        "  return a-b\n",
        "\n",
        "def multiply(a,b):\n",
        "  return a*b\n",
        "\n",
        "def divide(a,b):\n",
        "  return a/b"
      ],
      "execution_count": null,
      "outputs": []
    },
    {
      "cell_type": "code",
      "metadata": {
        "colab": {
          "base_uri": "https://localhost:8080/"
        },
        "id": "8Y4oa05Eykn4",
        "outputId": "5e37049d-ce6a-4a54-b33d-54d693336fa3"
      },
      "source": [
        "c = add(1,2); print(c)\n",
        "#c = subtract(1,2); print(c)\n",
        "#c = multiply(1,2); print(c)\n",
        "#c = divide(1,2); print(c)"
      ],
      "execution_count": null,
      "outputs": [
        {
          "output_type": "stream",
          "text": [
            "3\n"
          ],
          "name": "stdout"
        }
      ]
    },
    {
      "cell_type": "code",
      "metadata": {
        "id": "2_6F5v-KmWpt"
      },
      "source": [
        "def add(a,b):\n",
        "  c=a+b"
      ],
      "execution_count": 1,
      "outputs": []
    },
    {
      "cell_type": "code",
      "metadata": {
        "colab": {
          "base_uri": "https://localhost:8080/"
        },
        "id": "HkU3b1UKmqqb",
        "outputId": "616128ef-5906-438f-e5a8-f1483a200c3e"
      },
      "source": [
        "c=add(1,2);print(c)"
      ],
      "execution_count": 2,
      "outputs": [
        {
          "output_type": "stream",
          "text": [
            "None\n"
          ],
          "name": "stdout"
        }
      ]
    },
    {
      "cell_type": "markdown",
      "metadata": {
        "id": "-TFWlOI9mw5P"
      },
      "source": [
        "return이 출력. 출력이 없어도 함수는 성립"
      ]
    },
    {
      "cell_type": "code",
      "metadata": {
        "id": "a6p0pgj-m5hz"
      },
      "source": [
        "def add():\n",
        "  a=1"
      ],
      "execution_count": 4,
      "outputs": []
    },
    {
      "cell_type": "code",
      "metadata": {
        "colab": {
          "base_uri": "https://localhost:8080/"
        },
        "id": "2cVfEgSkm8iY",
        "outputId": "68a360a1-081a-4bca-a0bc-c01fd462e737"
      },
      "source": [
        "add(); print(c)"
      ],
      "execution_count": 5,
      "outputs": [
        {
          "output_type": "stream",
          "text": [
            "None\n"
          ],
          "name": "stdout"
        }
      ]
    },
    {
      "cell_type": "markdown",
      "metadata": {
        "id": "A0KY8JgVnBRT"
      },
      "source": [
        "입력이 없어도 함수는 성립\n",
        "\n",
        "입력도 multipke, 출력도 multiple 가능"
      ]
    },
    {
      "cell_type": "markdown",
      "metadata": {
        "id": "oLs_1Y-l2z4c"
      },
      "source": [
        "return 즉 출력을 쓰지 않는 경우? \n",
        "그래도 함수는 돌아감. return을 빼고 돌리면 error가 아니라 none이라는 메시지가 뜸\n",
        "add( ) 입력이 없을 경우에는? \n",
        "마찬가지로 출력도 없음. 이런 경우에도 함수는 정의되고 돌아감. none 메시지 출력력\n",
        "입력도 0개 이상, 출력도 0개 이상상"
      ]
    },
    {
      "cell_type": "code",
      "metadata": {
        "id": "fYoYfSLX3sZ5"
      },
      "source": [
        "def add(a,b):\n",
        "  return a,b"
      ],
      "execution_count": 8,
      "outputs": []
    },
    {
      "cell_type": "code",
      "metadata": {
        "colab": {
          "base_uri": "https://localhost:8080/"
        },
        "id": "MpbnI4QM3wOk",
        "outputId": "6b33331c-0869-446c-8a8b-84172c692d24"
      },
      "source": [
        "result=add(1,2) \n",
        "print(result)\n",
        "type(result)"
      ],
      "execution_count": 9,
      "outputs": [
        {
          "output_type": "stream",
          "text": [
            "(1, 2)\n"
          ],
          "name": "stdout"
        },
        {
          "output_type": "execute_result",
          "data": {
            "text/plain": [
              "tuple"
            ]
          },
          "metadata": {
            "tags": []
          },
          "execution_count": 9
        }
      ]
    },
    {
      "cell_type": "markdown",
      "metadata": {
        "id": "RM-5qJTqnZQS"
      },
      "source": [
        ""
      ]
    },
    {
      "cell_type": "code",
      "metadata": {
        "id": "ZHjsLIpsnZhA"
      },
      "source": [
        "def func1(x,a,b):\n",
        "  y=a*x+b\n",
        "  return y"
      ],
      "execution_count": 15,
      "outputs": []
    },
    {
      "cell_type": "code",
      "metadata": {
        "id": "FTUZHc_Onhvl",
        "outputId": "1c025b20-3ab7-4515-ef11-b5eeedd71c66",
        "colab": {
          "base_uri": "https://localhost:8080/"
        }
      },
      "source": [
        "func1(1,104103,195)"
      ],
      "execution_count": 20,
      "outputs": [
        {
          "output_type": "execute_result",
          "data": {
            "text/plain": [
              "104298"
            ]
          },
          "metadata": {
            "tags": []
          },
          "execution_count": 20
        }
      ]
    },
    {
      "cell_type": "code",
      "metadata": {
        "id": "mWLv378Bn6ER"
      },
      "source": [
        "def func2(x,a,b,c):\n",
        "  y=a*x**2+b*x+c\n",
        "  return y "
      ],
      "execution_count": 18,
      "outputs": []
    },
    {
      "cell_type": "code",
      "metadata": {
        "id": "FlJ7RwTQoLti",
        "outputId": "b09522d0-9d1c-49a5-bdfd-39433f3fcd46",
        "colab": {
          "base_uri": "https://localhost:8080/"
        }
      },
      "source": [
        "func2(5,1,-3,6)"
      ],
      "execution_count": 19,
      "outputs": [
        {
          "output_type": "execute_result",
          "data": {
            "text/plain": [
              "16"
            ]
          },
          "metadata": {
            "tags": []
          },
          "execution_count": 19
        }
      ]
    },
    {
      "cell_type": "markdown",
      "metadata": {
        "id": "b-yieDGF0zTz"
      },
      "source": [
        "함수는 무조건 앞에 def + 한칸 띄우고 함수의 이름+입력 :\n",
        "\n",
        "return ____(출력) -> f(a,b) = a+b\n",
        "\n",
        "def func1(x,a,b)\n",
        "  y=ax+b\n",
        "  return y\n",
        "func1(5,1,-2)\n",
        "3\n",
        "\n",
        "함수는 왜 만듦? -패키징을 해서 반복해서 쓰기 위해 (편리성)"
      ]
    },
    {
      "cell_type": "markdown",
      "metadata": {
        "id": "_YCtjjES-UL3"
      },
      "source": [
        "클래스\n",
        "함수는 module 같은 개념\n",
        "변수\n",
        "함수하고 변수는 함께 움직이기도 함. -> 이 두 개를 뭉뜽그려서 module로 만듦. \n",
        "\n",
        "(변수는 정보 함수는 operator) - 재료와 기계가 같이 있는 것을 class라고 함 \n",
        "class의 개념 oop(object oriented program)\n",
        "어떻게 하면 편리하게 모듈화하는가?"
      ]
    }
  ]
}